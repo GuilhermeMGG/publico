{
 "cells": [
  {
   "cell_type": "code",
   "execution_count": 2,
   "metadata": {},
   "outputs": [],
   "source": [
    "import sqlite3"
   ]
  },
  {
   "cell_type": "code",
   "execution_count": 4,
   "metadata": {},
   "outputs": [],
   "source": [
    "# 1. Conectar ao banco de dados (ou criar um novo)\n",
    "conn = sqlite3.connect('exemplo.db')\n",
    "\n",
    "# 2. Criar um objeto cursor\n",
    "cursor = conn.cursor()\n",
    "\n",
    "# 3. Definir o comando SQL para criar a tabela\n",
    "create_table = \"\"\"\n",
    "CREATE TABLE IF NOT EXISTS Produtos (\n",
    "    id INTEGER PRIMARY KEY,\n",
    "    nome TEXT NOT NULL,\n",
    "    preco REAL NOT NULL,\n",
    "    estoque INTEGER\n",
    ");\n",
    "\"\"\"\n",
    "\n",
    "# 4. Executar o comando SQL para criar a tabela\n",
    "cursor.execute(create_table)\n",
    "\n",
    "# 5. Confirmar as alterações (commit)\n",
    "conn.commit()\n",
    "\n",
    "# 6. Fechar a conexão com o banco de dados\n",
    "conn.close()"
   ]
  },
  {
   "cell_type": "code",
   "execution_count": 10,
   "metadata": {},
   "outputs": [],
   "source": [
    "# Conectando ao banco de dados\n",
    "conn = sqlite3.connect('exemplo.db')\n",
    "cursor = conn.cursor()\n",
    "\n",
    "# Dados do novo produto\n",
    "novo_produto = ('Camiseta', 19.99, 50)\n",
    "\n",
    "# Comando SQL para inserir o novo produto na tabela\n",
    "inserir_produto = \"INSERT INTO Produtos (nome, preco, estoque) VALUES (?, ?, ?)\"\n",
    "\n",
    "# Executando o comando SQL para inserção\n",
    "cursor.execute(inserir_produto, novo_produto)\n",
    "\n",
    "# Confirmando as alterações\n",
    "conn.commit()\n",
    "\n",
    "# Fechando a conexão\n",
    "conn.close()"
   ]
  },
  {
   "cell_type": "code",
   "execution_count": 18,
   "metadata": {},
   "outputs": [
    {
     "name": "stdout",
     "output_type": "stream",
     "text": [
      "(1, 'Camiseta', 24.99, 50)\n"
     ]
    }
   ],
   "source": [
    "# Conectando ao banco de dados\n",
    "conn = sqlite3.connect('exemplo.db')\n",
    "cursor = conn.cursor()\n",
    "\n",
    "# Comando SQL para selecionar todos os produtos\n",
    "selecionar_produtos = \"SELECT * FROM Produtos\"\n",
    "\n",
    "# Executando o comando SQL\n",
    "cursor.execute(selecionar_produtos)\n",
    "\n",
    "# Obtendo todos os registros e exibindo-os\n",
    "produtos = cursor.fetchall()\n",
    "for produto in produtos:\n",
    "    print(produto)\n",
    "\n",
    "# Fechando a conexão\n",
    "conn.close()"
   ]
  },
  {
   "cell_type": "code",
   "execution_count": 12,
   "metadata": {},
   "outputs": [],
   "source": [
    "#Conectando ao banco de dados\n",
    "conn = sqlite3.connect('exemplo.db')\n",
    "cursor = conn.cursor()\n",
    "\n",
    "# Novo preço e ID do produto a ser atualizado\n",
    "novo_preco = 24.99\n",
    "produto_id = 1  # Suponha que queiramos atualizar o produto com ID 1\n",
    "\n",
    "# Comando SQL para atualizar o preço do produto\n",
    "atualizar_preco = \"UPDATE Produtos SET preco = ? WHERE id = ?\"\n",
    "\n",
    "# Executando o comando SQL de atualização\n",
    "cursor.execute(atualizar_preco, (novo_preco, produto_id))\n",
    "\n",
    "# Confirmando as alterações\n",
    "conn.commit()\n",
    "\n",
    "# Fechando a conexão\n",
    "conn.close()"
   ]
  },
  {
   "cell_type": "code",
   "execution_count": 17,
   "metadata": {},
   "outputs": [],
   "source": [
    "# Conectando ao banco de dados\n",
    "conn = sqlite3.connect('exemplo.db')\n",
    "cursor = conn.cursor()\n",
    "\n",
    "# ID do produto a ser excluído\n",
    "produto_id = 2  # Suponha que queiramos excluir o produto com ID 2\n",
    "\n",
    "# Comando SQL para excluir o produto\n",
    "excluir_produto = \"DELETE FROM Produtos WHERE id = ?\"\n",
    "\n",
    "# Executando o comando SQL de exclusão\n",
    "cursor.execute(excluir_produto, (produto_id,))\n",
    "\n",
    "# Confirmando as alterações\n",
    "conn.commit()\n",
    "\n",
    "# Fechando a conexão\n",
    "conn.close()"
   ]
  },
  {
   "cell_type": "code",
   "execution_count": 23,
   "metadata": {},
   "outputs": [
    {
     "name": "stdout",
     "output_type": "stream",
     "text": [
      "Contatos:\n",
      "(2, 'Maria', 'maria@email.com', '999-999-9999')\n",
      "(3, 'Carlos', 'carlos@email.com', '555-555-5555')\n",
      "(4, 'João', 'joao@email.com', '123-456-7890')\n",
      "(5, 'Maria', 'maria@email.com', '987-654-3210')\n",
      "(6, 'Carlos', 'carlos@email.com', '555-555-5555')\n"
     ]
    }
   ],
   "source": [
    "#                                                    VAMOS EXERCITAR\n",
    "#  CREATE (Criação da tabela e inserção de dados de exemplo)\n",
    "\n",
    "conn = sqlite3.connect('contatos.db')\n",
    "cursor = conn.cursor()\n",
    "cursor.execute('''\n",
    "    CREATE TABLE IF NOT EXISTS Contatos (\n",
    "        id INTEGER PRIMARY KEY AUTOINCREMENT,\n",
    "        nome TEXT,\n",
    "        email TEXT,\n",
    "        telefone TEXT\n",
    "    )\n",
    "''')\n",
    "\n",
    "dados_exemplo = [\n",
    "    ('João', 'joao@email.com', '123-456-7890'),\n",
    "    ('Maria', 'maria@email.com', '987-654-3210'),\n",
    "    ('Carlos', 'carlos@email.com', '555-555-5555')\n",
    "]\n",
    "cursor.executemany('INSERT INTO Contatos (nome, email, telefone) VALUES (?, ?, ?)', dados_exemplo)\n",
    "conn.commit()\n",
    "\n",
    "# READ (Leitura e exibição dos contatos)\n",
    "cursor.execute('SELECT * FROM Contatos')\n",
    "contatos = cursor.fetchall()\n",
    "print(\"Contatos:\")\n",
    "\n",
    "for contato in contatos:\n",
    "    print(contato)\n",
    "\n",
    "# UPDATE (Atualização do número de telefone do contato com ID 2)\n",
    "novo_telefone = '999-999-9999'\n",
    "contato_id = 2\n",
    "\n",
    "cursor.execute('UPDATE Contatos SET telefone = ? WHERE id = ?', (novo_telefone, contato_id))\n",
    "conn.commit()\n",
    "\n",
    "# DELETE (Exclusão do contato com ID 1)\n",
    "contato_id_para_excluir = 1\n",
    "\n",
    "cursor.execute('DELETE FROM Contatos WHERE id = ?', (contato_id_para_excluir,))\n",
    "conn.commit()\n",
    "\n",
    "# Fechando a conexão\n",
    "conn.close()"
   ]
  },
  {
   "cell_type": "code",
   "execution_count": 26,
   "metadata": {},
   "outputs": [
    {
     "name": "stdout",
     "output_type": "stream",
     "text": [
      "coisas:\n",
      "(2, 'copo', 'caneca', '9999')\n",
      "(3, 'mouse', 'rato', '7224')\n",
      "(4, 'mesa', 'porrinha', '1423')\n",
      "(5, 'copo', 'caneca', '1984')\n",
      "(6, 'mouse', 'rato', '7224')\n",
      "(7, 'mesa', 'porrinha', '1423')\n",
      "(8, 'copo', 'caneca', '1984')\n",
      "(9, 'mouse', 'rato', '7224')\n"
     ]
    }
   ],
   "source": [
    "ex = sqlite3.connect('coisas.db')\n",
    "cursor = ex.cursor()\n",
    "cursor.execute('''\n",
    "    CREATE TABLE IF NOT EXISTS coisas (\n",
    "        id INTEGER PRIMARY KEY AUTOINCREMENT,\n",
    "        nome TEXT,\n",
    "        apelido TEXT,\n",
    "        numeracao TEXT\n",
    "    )\n",
    "''')\n",
    "\n",
    "dados_foda = [\n",
    "    ('mesa', 'porrinha', '1423'),\n",
    "    ('copo', 'caneca', '1984'),\n",
    "    ('mouse', 'rato', '7224')\n",
    "]\n",
    "cursor.executemany('INSERT INTO coisas (nome, apelido, numeracao) VALUES (?, ?, ?)', dados_foda)\n",
    "ex.commit()\n",
    "\n",
    "# READ (Leitura e exibição dos contatos)\n",
    "cursor.execute('SELECT * FROM coisas')\n",
    "coisas = cursor.fetchall()\n",
    "print(\"coisas:\")\n",
    "\n",
    "for coisa in coisas:\n",
    "    print(coisa)\n",
    "\n",
    "# UPDATE (Atualização do número de telefone do contato com ID 2)\n",
    "nova_numeracao = '9999'\n",
    "coisa_id = 2\n",
    "\n",
    "cursor.execute('UPDATE coisas SET numeracao = ? WHERE id = ?', (nova_numeracao, coisa_id))\n",
    "ex.commit()\n",
    "\n",
    "# DELETE (Exclusão do contato com ID 1)\n",
    "coisa_id_para_excluir = 1\n",
    "\n",
    "cursor.execute('DELETE FROM coisas WHERE id = ?', (coisa_id_para_excluir,))\n",
    "ex.commit()\n",
    "\n",
    "# Fechando a conexão\n",
    "ex.close()"
   ]
  }
 ],
 "metadata": {
  "kernelspec": {
   "display_name": "Python 3",
   "language": "python",
   "name": "python3"
  },
  "language_info": {
   "codemirror_mode": {
    "name": "ipython",
    "version": 3
   },
   "file_extension": ".py",
   "mimetype": "text/x-python",
   "name": "python",
   "nbconvert_exporter": "python",
   "pygments_lexer": "ipython3",
   "version": "3.11.9"
  }
 },
 "nbformat": 4,
 "nbformat_minor": 2
}
