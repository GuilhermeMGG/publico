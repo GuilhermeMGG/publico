{
 "cells": [
  {
   "cell_type": "code",
   "execution_count": 5,
   "metadata": {},
   "outputs": [
    {
     "name": "stdout",
     "output_type": "stream",
     "text": [
      "Idoso\n"
     ]
    }
   ],
   "source": [
    "idade = int(input(\"digite a sua idade\"))\n",
    "if idade < 18:\n",
    "\n",
    "    print(\"Menor de idade\")\n",
    "elif idade >= 18 and idade < 65:\n",
    "\n",
    "    print(\"Adulto\")\n",
    "else:\n",
    "    print(\"Idoso\")"
   ]
  },
  {
   "cell_type": "code",
   "execution_count": 13,
   "metadata": {},
   "outputs": [
    {
     "name": "stdout",
     "output_type": "stream",
     "text": [
      "Recomendamos o filme infantil FILME 1.\n",
      "Ingressos estão disponíveis. Divirta-se no cinema!\n"
     ]
    },
    {
     "data": {
      "text/plain": [
       "10"
      ]
     },
     "execution_count": 13,
     "metadata": {},
     "output_type": "execute_result"
    }
   ],
   "source": [
    "# Bem-vindo à Máquina de Venda Automática de Ingressos de Cinema!\n",
    "# Solicita a idade do cliente\n",
    "\n",
    "idade = int(input(\"Por favor, digite sua idade: \"))\n",
    "\n",
    "# Verifica a idade para sugestão de filmes\n",
    "if idade < 12:\n",
    "    print('Recomendamos o filme infantil FILME 1.')\n",
    "\n",
    "elif 12 <= idade < 18:\n",
    "    print('Recomendamos o filme adolescente FILME 2.')\n",
    "\n",
    "else:\n",
    "    print(\"Recomendamos o emocionante FILME 3.\")\n",
    "\n",
    "# Verifica a disponibilidade de ingressos\n",
    "quantidade_ingressos = 10  # Suponha que haja 10 ingressos disponíveis\n",
    "\n",
    "if quantidade_ingressos > 0:\n",
    "    print('Ingressos estão disponíveis. Divirta-se no cinema!')\n",
    "\n",
    "else:\n",
    "    print('Desculpe, todos os ingressos estão esgotados para hoje.')"
   ]
  }
 ],
 "metadata": {
  "kernelspec": {
   "display_name": "Python 3",
   "language": "python",
   "name": "python3"
  },
  "language_info": {
   "codemirror_mode": {
    "name": "ipython",
    "version": 3
   },
   "file_extension": ".py",
   "mimetype": "text/x-python",
   "name": "python",
   "nbconvert_exporter": "python",
   "pygments_lexer": "ipython3",
   "version": "3.11.9"
  }
 },
 "nbformat": 4,
 "nbformat_minor": 2
}
