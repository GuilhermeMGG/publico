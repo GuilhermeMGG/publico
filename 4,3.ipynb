{
 "cells": [
  {
   "cell_type": "code",
   "execution_count": 26,
   "metadata": {},
   "outputs": [],
   "source": [
    "import doctest\n",
    "import unittest"
   ]
  },
  {
   "cell_type": "code",
   "execution_count": 9,
   "metadata": {},
   "outputs": [
    {
     "ename": "AssertionError",
     "evalue": "divisão por 0",
     "output_type": "error",
     "traceback": [
      "\u001b[1;31m---------------------------------------------------------------------------\u001b[0m",
      "\u001b[1;31mAssertionError\u001b[0m                            Traceback (most recent call last)",
      "Cell \u001b[1;32mIn[9], line 5\u001b[0m\n\u001b[0;32m      2\u001b[0m     \u001b[38;5;28;01massert\u001b[39;00m y \u001b[38;5;241m!=\u001b[39m \u001b[38;5;241m0\u001b[39m, \u001b[38;5;124m\"\u001b[39m\u001b[38;5;124mdivisão por 0\u001b[39m\u001b[38;5;124m\"\u001b[39m\n\u001b[0;32m      3\u001b[0m     \u001b[38;5;28;01mreturn\u001b[39;00m x \u001b[38;5;241m/\u001b[39m y\n\u001b[1;32m----> 5\u001b[0m result \u001b[38;5;241m=\u001b[39m \u001b[43mdivide\u001b[49m\u001b[43m(\u001b[49m\u001b[38;5;241;43m6\u001b[39;49m\u001b[43m,\u001b[49m\u001b[43m \u001b[49m\u001b[38;5;241;43m0\u001b[39;49m\u001b[43m)\u001b[49m\n\u001b[0;32m      6\u001b[0m \u001b[38;5;28mprint\u001b[39m(result)  \u001b[38;5;66;03m# AssertionError: Divisão por zero!\u001b[39;00m\n",
      "Cell \u001b[1;32mIn[9], line 2\u001b[0m, in \u001b[0;36mdivide\u001b[1;34m(x, y)\u001b[0m\n\u001b[0;32m      1\u001b[0m \u001b[38;5;28;01mdef\u001b[39;00m \u001b[38;5;21mdivide\u001b[39m(x, y):\n\u001b[1;32m----> 2\u001b[0m     \u001b[38;5;28;01massert\u001b[39;00m y \u001b[38;5;241m!=\u001b[39m \u001b[38;5;241m0\u001b[39m, \u001b[38;5;124m\"\u001b[39m\u001b[38;5;124mdivisão por 0\u001b[39m\u001b[38;5;124m\"\u001b[39m\n\u001b[0;32m      3\u001b[0m     \u001b[38;5;28;01mreturn\u001b[39;00m x \u001b[38;5;241m/\u001b[39m y\n",
      "\u001b[1;31mAssertionError\u001b[0m: divisão por 0"
     ]
    }
   ],
   "source": [
    "def divide(x, y):\n",
    "    assert y != 0, \"divisão por 0\"\n",
    "    return x / y\n",
    "\n",
    "result = divide(6, 0)\n",
    "print(result)  # AssertionError: Divisão por zero!"
   ]
  },
  {
   "cell_type": "code",
   "execution_count": 8,
   "metadata": {},
   "outputs": [
    {
     "name": "stdout",
     "output_type": "stream",
     "text": [
      "3.0\n"
     ]
    }
   ],
   "source": [
    "def divide(x, y):\n",
    "    assert y != 0, \"divisão por 0\"\n",
    "    return x / y\n",
    "\n",
    "result = divide(6, 2)\n",
    "print(result) #Funcional"
   ]
  },
  {
   "cell_type": "code",
   "execution_count": 13,
   "metadata": {},
   "outputs": [],
   "source": [
    "def calcular_media(notas):\n",
    "    assert len(notas) > 0, \"a lista não pode estar vazia\"\n",
    "\n",
    "    soma=sum(notas)\n",
    "    media=soma/len(notas)\n",
    "    return media"
   ]
  },
  {
   "cell_type": "code",
   "execution_count": 22,
   "metadata": {},
   "outputs": [
    {
     "name": "stdout",
     "output_type": "stream",
     "text": [
      "7.6\n"
     ]
    }
   ],
   "source": [
    "nota1= [8,7,9,6,8]\n",
    "media1= calcular_media(nota1)\n",
    "print (media1)"
   ]
  },
  {
   "cell_type": "code",
   "execution_count": 21,
   "metadata": {},
   "outputs": [
    {
     "ename": "AssertionError",
     "evalue": "a lista não pode estar vazia",
     "output_type": "error",
     "traceback": [
      "\u001b[1;31m---------------------------------------------------------------------------\u001b[0m",
      "\u001b[1;31mAssertionError\u001b[0m                            Traceback (most recent call last)",
      "Cell \u001b[1;32mIn[21], line 2\u001b[0m\n\u001b[0;32m      1\u001b[0m nota2\u001b[38;5;241m=\u001b[39m []\n\u001b[1;32m----> 2\u001b[0m media2\u001b[38;5;241m=\u001b[39m \u001b[43mcalcular_media\u001b[49m\u001b[43m(\u001b[49m\u001b[43mnota2\u001b[49m\u001b[43m)\u001b[49m\n\u001b[0;32m      3\u001b[0m \u001b[38;5;28mprint\u001b[39m (media2)\n",
      "Cell \u001b[1;32mIn[13], line 2\u001b[0m, in \u001b[0;36mcalcular_media\u001b[1;34m(notas)\u001b[0m\n\u001b[0;32m      1\u001b[0m \u001b[38;5;28;01mdef\u001b[39;00m \u001b[38;5;21mcalcular_media\u001b[39m(notas):\n\u001b[1;32m----> 2\u001b[0m     \u001b[38;5;28;01massert\u001b[39;00m \u001b[38;5;28mlen\u001b[39m(notas) \u001b[38;5;241m>\u001b[39m \u001b[38;5;241m0\u001b[39m, \u001b[38;5;124m\"\u001b[39m\u001b[38;5;124ma lista não pode estar vazia\u001b[39m\u001b[38;5;124m\"\u001b[39m\n\u001b[0;32m      4\u001b[0m     soma\u001b[38;5;241m=\u001b[39m\u001b[38;5;28msum\u001b[39m(notas)\n\u001b[0;32m      5\u001b[0m     media\u001b[38;5;241m=\u001b[39msoma\u001b[38;5;241m/\u001b[39m\u001b[38;5;28mlen\u001b[39m(notas)\n",
      "\u001b[1;31mAssertionError\u001b[0m: a lista não pode estar vazia"
     ]
    }
   ],
   "source": [
    "nota2= []\n",
    "media2= calcular_media(nota2)\n",
    "print (media2)"
   ]
  },
  {
   "cell_type": "code",
   "execution_count": 24,
   "metadata": {},
   "outputs": [
    {
     "data": {
      "text/plain": [
       "TestResults(failed=0, attempted=3)"
      ]
     },
     "execution_count": 24,
     "metadata": {},
     "output_type": "execute_result"
    }
   ],
   "source": [
    "def square(x):\n",
    "    '''\n",
    "    Retorna o quadrado de um número.\n",
    "\n",
    "    Exemplos:\n",
    "    >>> square(3)\n",
    "    9\n",
    "    >>> square(-2)\n",
    "    4\n",
    "    >>> square(0)\n",
    "    0\n",
    "    '''\n",
    "\n",
    "    return x * x\n",
    "doctest.testmod()"
   ]
  },
  {
   "cell_type": "code",
   "execution_count": 25,
   "metadata": {},
   "outputs": [
    {
     "name": "stdout",
     "output_type": "stream",
     "text": [
      "16\n"
     ]
    }
   ],
   "source": [
    "print (square(4))"
   ]
  },
  {
   "cell_type": "code",
   "execution_count": 27,
   "metadata": {},
   "outputs": [
    {
     "name": "stderr",
     "output_type": "stream",
     "text": [
      "..\n",
      "----------------------------------------------------------------------\n",
      "Ran 2 tests in 0.002s\n",
      "\n",
      "OK\n"
     ]
    },
    {
     "name": "stdout",
     "output_type": "stream",
     "text": [
      "\n"
     ]
    }
   ],
   "source": [
    "def add(a, b):\n",
    "    return a + b\n",
    "\n",
    "class TestAddition(unittest.TestCase):\n",
    "    \n",
    "    def test_add_positive_numbers(self):\n",
    "        self.assertEqual(add(2, 3), 5)\n",
    "\n",
    "    def test_add_negative_numbers(self):\n",
    "        self.assertEqual(add(-2, -3), -5)\n",
    "\n",
    "if __name__ == '__main__':\n",
    "\n",
    "    unittest.main(argv=['first-arg-is-ignored'], exit=False)\n",
    "    print()"
   ]
  },
  {
   "cell_type": "code",
   "execution_count": 28,
   "metadata": {},
   "outputs": [
    {
     "name": "stderr",
     "output_type": "stream",
     "text": [
      ".....\n",
      "----------------------------------------------------------------------\n",
      "Ran 5 tests in 0.011s\n",
      "\n",
      "OK\n"
     ]
    },
    {
     "name": "stdout",
     "output_type": "stream",
     "text": [
      "11\n"
     ]
    }
   ],
   "source": [
    "#Assertions\n",
    "def sum_numbers(numbers):\n",
    "\n",
    "    assert sum([1, 2, 3, 4]) == 10\n",
    "\n",
    "    assert sum([-1, 0, 1]) == 0\n",
    "\n",
    "    assert sum([]) == 0\n",
    "\n",
    "    return sum(numbers)\n",
    "\n",
    "teste = sum_numbers([1, 2, 3, 5])  \n",
    "\n",
    "print(teste)\n",
    "\n",
    " \n",
    "\n",
    "#doctest\n",
    "def sum_numbers(numbers):\n",
    "    '''\n",
    "    Soma os números em uma lista.\n",
    "\n",
    "    Exemplos:\n",
    "\n",
    "    >>> sum_numbers([1, 2, 3, 4])\n",
    "    10\n",
    "    >>> sum_numbers([-1, 0, 1])\n",
    "    0\n",
    "    >>> sum_numbers([])\n",
    "    0\n",
    "    '''\n",
    "    return sum(numbers)\n",
    "\n",
    " \n",
    "\n",
    "if __name__ == \"__main__\":\n",
    "    doctest.testmod()\n",
    "\n",
    " \n",
    "\n",
    "#unittest\n",
    "def sum_numbers(numbers):\n",
    "    return sum(numbers)\n",
    "\n",
    "class TestSumNumbers(unittest.TestCase):\n",
    "\n",
    "    def test_sum_numbers_positive(self):\n",
    "        self.assertEqual(sum_numbers([1, 2, 3, 4]), 10)\n",
    "\n",
    "    def test_sum_numbers_mixed(self):\n",
    "        self.assertEqual(sum_numbers([-1, 0, 1]), 0)\n",
    "\n",
    "    def test_sum_numbers_empty(self):\n",
    "        self.assertEqual(sum_numbers([]), 0)\n",
    "\n",
    "\n",
    "if __name__ == '__main__':\n",
    "\n",
    "    unittest.main(argv=['first-arg-is-ignored'], exit=False)"
   ]
  }
 ],
 "metadata": {
  "kernelspec": {
   "display_name": "Python 3",
   "language": "python",
   "name": "python3"
  },
  "language_info": {
   "codemirror_mode": {
    "name": "ipython",
    "version": 3
   },
   "file_extension": ".py",
   "mimetype": "text/x-python",
   "name": "python",
   "nbconvert_exporter": "python",
   "pygments_lexer": "ipython3",
   "version": "3.11.9"
  }
 },
 "nbformat": 4,
 "nbformat_minor": 2
}
