{
 "cells": [
  {
   "cell_type": "code",
   "execution_count": 11,
   "metadata": {},
   "outputs": [],
   "source": [
    "from kivy.app import App\n",
    "from kivy.lang import builder\n",
    "from kivy.uix.boxlayout import BoxLayout\n",
    "from kivy.uix.label import Label\n",
    "from kivy.uix.tabbedpanel import TabbedPanel, TabbedPanelItem"
   ]
  },
  {
   "cell_type": "code",
   "execution_count": 10,
   "metadata": {},
   "outputs": [
    {
     "ename": "ParserException",
     "evalue": "Parser: File \"<inline>\", line 2:\n...\n      1:\n>>    2:                    <TabsLayout>:\n      3:                        TabbedPanel:\n      4:                            do_default_tab: False\n...\nInvalid property name",
     "output_type": "error",
     "traceback": [
      "\u001b[1;31m---------------------------------------------------------------------------\u001b[0m",
      "\u001b[1;31mParserException\u001b[0m                           Traceback (most recent call last)",
      "Cell \u001b[1;32mIn[10], line 1\u001b[0m\n\u001b[1;32m----> 1\u001b[0m \u001b[43mBuilder\u001b[49m\u001b[38;5;241;43m.\u001b[39;49m\u001b[43mload_string\u001b[49m\u001b[43m(\u001b[49m\u001b[38;5;124;43m'''\u001b[39;49m\n\u001b[0;32m      2\u001b[0m \u001b[38;5;124;43m                    <TabsLayout>:\u001b[39;49m\n\u001b[0;32m      3\u001b[0m \u001b[38;5;124;43m                        TabbedPanel:\u001b[39;49m\n\u001b[0;32m      4\u001b[0m \u001b[38;5;124;43m                            do_default_tab: False\u001b[39;49m\n\u001b[0;32m      5\u001b[0m \u001b[38;5;124;43m                            TabbedPanelItem:\u001b[39;49m\n\u001b[0;32m      6\u001b[0m \u001b[38;5;124;43m                                text: \u001b[39;49m\u001b[38;5;124;43m'\u001b[39;49m\u001b[38;5;124;43mTab 1\u001b[39;49m\u001b[38;5;124;43m'\u001b[39;49m\n\u001b[0;32m      7\u001b[0m \u001b[38;5;124;43m                                BoxLayout:\u001b[39;49m\n\u001b[0;32m      8\u001b[0m \u001b[38;5;124;43m                                    orientation: \u001b[39;49m\u001b[38;5;124;43m'\u001b[39;49m\u001b[38;5;124;43mvertical\u001b[39;49m\u001b[38;5;124;43m'\u001b[39;49m\n\u001b[0;32m      9\u001b[0m \u001b[38;5;124;43m                                    Label:\u001b[39;49m\n\u001b[0;32m     10\u001b[0m \u001b[38;5;124;43m                                        text: \u001b[39;49m\u001b[38;5;124;43m'\u001b[39;49m\u001b[38;5;124;43mContent dor Tab 1\u001b[39;49m\u001b[38;5;124;43m'\u001b[39;49m\n\u001b[0;32m     11\u001b[0m \u001b[38;5;124;43m                            TabbedPanelItem:\u001b[39;49m\n\u001b[0;32m     12\u001b[0m \u001b[38;5;124;43m                                text: \u001b[39;49m\u001b[38;5;124;43m'\u001b[39;49m\u001b[38;5;124;43mtab 2\u001b[39;49m\u001b[38;5;124;43m'\u001b[39;49m\n\u001b[0;32m     13\u001b[0m \u001b[38;5;124;43m                                BoxLayout:\u001b[39;49m\n\u001b[0;32m     14\u001b[0m \u001b[38;5;124;43m                                    orientation: \u001b[39;49m\u001b[38;5;124;43m'\u001b[39;49m\u001b[38;5;124;43mvertical\u001b[39;49m\u001b[38;5;124;43m'\u001b[39;49m\n\u001b[0;32m     15\u001b[0m \u001b[38;5;124;43m                                    Label:\u001b[39;49m\n\u001b[0;32m     16\u001b[0m \u001b[38;5;124;43m                                        text: \u001b[39;49m\u001b[38;5;124;43m'\u001b[39;49m\u001b[38;5;124;43mContent for Tab 2\u001b[39;49m\u001b[38;5;124;43m'\u001b[39;49m\n\u001b[0;32m     17\u001b[0m \u001b[38;5;124;43m'''\u001b[39;49m\u001b[43m)\u001b[49m\n\u001b[0;32m     19\u001b[0m \u001b[38;5;28;01mclass\u001b[39;00m \u001b[38;5;21;01mTabsLayout\u001b[39;00m(BoxLayout):\n\u001b[0;32m     20\u001b[0m     \u001b[38;5;28;01mpass\u001b[39;00m\n",
      "File \u001b[1;32m~\\AppData\\Local\\Packages\\PythonSoftwareFoundation.Python.3.11_qbz5n2kfra8p0\\LocalCache\\local-packages\\Python311\\site-packages\\kivy\\lang\\builder.py:377\u001b[0m, in \u001b[0;36mBuilderBase.load_string\u001b[1;34m(self, string, **kwargs)\u001b[0m\n\u001b[0;32m    371\u001b[0m     Logger\u001b[38;5;241m.\u001b[39mwarning(\n\u001b[0;32m    372\u001b[0m         \u001b[38;5;124m'\u001b[39m\u001b[38;5;124mLang: The file \u001b[39m\u001b[38;5;132;01m{}\u001b[39;00m\u001b[38;5;124m is loaded multiples times, \u001b[39m\u001b[38;5;124m'\u001b[39m\n\u001b[0;32m    373\u001b[0m         \u001b[38;5;124m'\u001b[39m\u001b[38;5;124myou might have unwanted behaviors.\u001b[39m\u001b[38;5;124m'\u001b[39m\u001b[38;5;241m.\u001b[39mformat(fn))\n\u001b[0;32m    375\u001b[0m \u001b[38;5;28;01mtry\u001b[39;00m:\n\u001b[0;32m    376\u001b[0m     \u001b[38;5;66;03m# parse the string\u001b[39;00m\n\u001b[1;32m--> 377\u001b[0m     parser \u001b[38;5;241m=\u001b[39m \u001b[43mParser\u001b[49m\u001b[43m(\u001b[49m\u001b[43mcontent\u001b[49m\u001b[38;5;241;43m=\u001b[39;49m\u001b[43mstring\u001b[49m\u001b[43m,\u001b[49m\u001b[43m \u001b[49m\u001b[43mfilename\u001b[49m\u001b[38;5;241;43m=\u001b[39;49m\u001b[43mfn\u001b[49m\u001b[43m)\u001b[49m\n\u001b[0;32m    379\u001b[0m     \u001b[38;5;66;03m# merge rules with our rules\u001b[39;00m\n\u001b[0;32m    380\u001b[0m     \u001b[38;5;28mself\u001b[39m\u001b[38;5;241m.\u001b[39mrules\u001b[38;5;241m.\u001b[39mextend(parser\u001b[38;5;241m.\u001b[39mrules)\n",
      "File \u001b[1;32m~\\AppData\\Local\\Packages\\PythonSoftwareFoundation.Python.3.11_qbz5n2kfra8p0\\LocalCache\\local-packages\\Python311\\site-packages\\kivy\\lang\\parser.py:483\u001b[0m, in \u001b[0;36mParser.__init__\u001b[1;34m(self, **kwargs)\u001b[0m\n\u001b[0;32m    481\u001b[0m \u001b[38;5;28;01mif\u001b[39;00m content \u001b[38;5;129;01mis\u001b[39;00m \u001b[38;5;28;01mNone\u001b[39;00m:\n\u001b[0;32m    482\u001b[0m     \u001b[38;5;28;01mraise\u001b[39;00m \u001b[38;5;167;01mValueError\u001b[39;00m(\u001b[38;5;124m'\u001b[39m\u001b[38;5;124mNo content passed\u001b[39m\u001b[38;5;124m'\u001b[39m)\n\u001b[1;32m--> 483\u001b[0m \u001b[38;5;28;43mself\u001b[39;49m\u001b[38;5;241;43m.\u001b[39;49m\u001b[43mparse\u001b[49m\u001b[43m(\u001b[49m\u001b[43mcontent\u001b[49m\u001b[43m)\u001b[49m\n",
      "File \u001b[1;32m~\\AppData\\Local\\Packages\\PythonSoftwareFoundation.Python.3.11_qbz5n2kfra8p0\\LocalCache\\local-packages\\Python311\\site-packages\\kivy\\lang\\parser.py:593\u001b[0m, in \u001b[0;36mParser.parse\u001b[1;34m(self, content)\u001b[0m\n\u001b[0;32m    590\u001b[0m \u001b[38;5;28mself\u001b[39m\u001b[38;5;241m.\u001b[39mexecute_directives()\n\u001b[0;32m    592\u001b[0m \u001b[38;5;66;03m# Get object from the first level\u001b[39;00m\n\u001b[1;32m--> 593\u001b[0m objects, remaining_lines \u001b[38;5;241m=\u001b[39m \u001b[38;5;28;43mself\u001b[39;49m\u001b[38;5;241;43m.\u001b[39;49m\u001b[43mparse_level\u001b[49m\u001b[43m(\u001b[49m\u001b[38;5;241;43m0\u001b[39;49m\u001b[43m,\u001b[49m\u001b[43m \u001b[49m\u001b[43mlines\u001b[49m\u001b[43m)\u001b[49m\n\u001b[0;32m    595\u001b[0m \u001b[38;5;66;03m# Precompile rules tree\u001b[39;00m\n\u001b[0;32m    596\u001b[0m \u001b[38;5;28;01mfor\u001b[39;00m rule \u001b[38;5;129;01min\u001b[39;00m objects:\n",
      "File \u001b[1;32m~\\AppData\\Local\\Packages\\PythonSoftwareFoundation.Python.3.11_qbz5n2kfra8p0\\LocalCache\\local-packages\\Python311\\site-packages\\kivy\\lang\\parser.py:708\u001b[0m, in \u001b[0;36mParser.parse_level\u001b[1;34m(self, level, lines, spaces)\u001b[0m\n\u001b[0;32m    706\u001b[0m \u001b[38;5;28;01mif\u001b[39;00m name \u001b[38;5;129;01mnot\u001b[39;00m \u001b[38;5;129;01min\u001b[39;00m Parser\u001b[38;5;241m.\u001b[39mPROP_ALLOWED:\n\u001b[0;32m    707\u001b[0m     \u001b[38;5;28;01mif\u001b[39;00m \u001b[38;5;129;01mnot\u001b[39;00m \u001b[38;5;28mall\u001b[39m(\u001b[38;5;28mord\u001b[39m(z) \u001b[38;5;129;01min\u001b[39;00m Parser\u001b[38;5;241m.\u001b[39mPROP_RANGE \u001b[38;5;28;01mfor\u001b[39;00m z \u001b[38;5;129;01min\u001b[39;00m name):\n\u001b[1;32m--> 708\u001b[0m         \u001b[38;5;28;01mraise\u001b[39;00m ParserException(\u001b[38;5;28mself\u001b[39m, ln,\n\u001b[0;32m    709\u001b[0m                               \u001b[38;5;124m'\u001b[39m\u001b[38;5;124mInvalid property name\u001b[39m\u001b[38;5;124m'\u001b[39m)\n\u001b[0;32m    710\u001b[0m \u001b[38;5;28;01mif\u001b[39;00m \u001b[38;5;28mlen\u001b[39m(x) \u001b[38;5;241m==\u001b[39m \u001b[38;5;241m1\u001b[39m:\n\u001b[0;32m    711\u001b[0m     \u001b[38;5;28;01mraise\u001b[39;00m ParserException(\u001b[38;5;28mself\u001b[39m, ln, \u001b[38;5;124m'\u001b[39m\u001b[38;5;124mSyntax error\u001b[39m\u001b[38;5;124m'\u001b[39m)\n",
      "\u001b[1;31mParserException\u001b[0m: Parser: File \"<inline>\", line 2:\n...\n      1:\n>>    2:                    <TabsLayout>:\n      3:                        TabbedPanel:\n      4:                            do_default_tab: False\n...\nInvalid property name"
     ]
    }
   ],
   "source": [
    "builder.load_string('''\n",
    "                    <TabsLayout>:\n",
    "                        TabbedPanel:\n",
    "                            do_default_tab: False\n",
    "                            TabbedPanelItem:\n",
    "                                text: 'Tab 1'\n",
    "                                BoxLayout:\n",
    "                                    orientation: 'vertical'\n",
    "                                    Label:\n",
    "                                        text: 'Content dor Tab 1'\n",
    "                            TabbedPanelItem:\n",
    "                                text: 'tab 2'\n",
    "                                BoxLayout:\n",
    "                                    orientation: 'vertical'\n",
    "                                    Label:\n",
    "                                        text: 'Content for Tab 2'\n",
    "''')\n",
    "\n",
    "class TabsLayout(BoxLayout):\n",
    "    pass\n",
    "class TabsApp(App):\n",
    "    def build(self):\n",
    "        return TabsLayout()\n",
    "    \n",
    "def run_kivy_app():\n",
    "    app=TabsApp()\n",
    "    app.run()\n",
    "\n",
    "    run_kivy_app()"
   ]
  },
  {
   "cell_type": "code",
   "execution_count": null,
   "metadata": {},
   "outputs": [],
   "source": []
  }
 ],
 "metadata": {
  "kernelspec": {
   "display_name": "Python 3",
   "language": "python",
   "name": "python3"
  },
  "language_info": {
   "codemirror_mode": {
    "name": "ipython",
    "version": 3
   },
   "file_extension": ".py",
   "mimetype": "text/x-python",
   "name": "python",
   "nbconvert_exporter": "python",
   "pygments_lexer": "ipython3",
   "version": "3.11.9"
  }
 },
 "nbformat": 4,
 "nbformat_minor": 2
}
