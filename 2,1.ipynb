{
 "cells": [
  {
   "cell_type": "markdown",
   "metadata": {},
   "source": [
    "#Operação                               #Resultado\n",
    "\n",
    "x in s                                  True caso um item de s seja igual a x, senão false.\n",
    "\n",
    "s + t                                   Concatenação de s e t.\n",
    "\n",
    "n * s                                   Adiciona s a si mesmo n vezes.\n",
    "\n",
    "s[i]                                    Acessa o valor guardado na posição i da sequência.\n",
    "\n",
    "s[i:j]                                  Acessa os valores da posição i até j.\n",
    "\n",
    "s[i:j:k]                                Acessa os valores da posição i até j, com passo k.\n",
    "\n",
    "len(s)                                  Comprimento de s.\n",
    "\n",
    "min(s)                                  Menor valor de s.\n",
    "\n",
    "max(s)                                  Maior valor de s.\n",
    "\n",
    "s.count(x)                              Número total de ocorrência de x em s."
   ]
  },
  {
   "cell_type": "code",
   "execution_count": 56,
   "metadata": {},
   "outputs": [
    {
     "name": "stdout",
     "output_type": "stream",
     "text": [
      "é\n",
      "o é u\n",
      "['uma', 'lista']\n"
     ]
    }
   ],
   "source": [
    "string = \"essa é um objeto da classe sting\"\n",
    "tupla = (\"isso é um da classe tupla\")\n",
    "lista = ['isso', 'é', 'uma', 'lista']\n",
    "\n",
    "print (string[5])\n",
    "print (tupla[3:8])\n",
    "print (lista[2:])"
   ]
  },
  {
   "cell_type": "code",
   "execution_count": 21,
   "metadata": {},
   "outputs": [
    {
     "name": "stdout",
     "output_type": "stream",
     "text": [
      "tamanho do texto = 64\n",
      "python in texto = True\n",
      "Quantidades de E no texto = 5\n",
      "As 5 primeiras letras são: Explo\n"
     ]
    }
   ],
   "source": [
    "texto= \"Explorando a diversidade de linguagens de progamação com Python.\"\n",
    "\n",
    "print(f\"tamanho do texto = {len(texto)}\")\n",
    "print(f\"python in texto = {'Python' in texto}\")\n",
    "print(f\"Quantidades de E no texto = {texto.count('e')}\")\n",
    "print(f\"As 5 primeiras letras são: {texto[:5]}\")"
   ]
  },
  {
   "cell_type": "code",
   "execution_count": 22,
   "metadata": {},
   "outputs": [
    {
     "name": "stdout",
     "output_type": "stream",
     "text": [
      "Posição = 0, cor = vermelho\n",
      "Posição = 1, cor = azul\n",
      "Posição = 2, cor = verde\n",
      "Posição = 3, cor = amarelo\n",
      "Posição = 4, cor = roxo\n"
     ]
    }
   ],
   "source": [
    "cores = ['vermelho', 'azul', 'verde', 'amarelo', 'roxo']\n",
    "\n",
    "for cor in cores:\n",
    "    print(f'Posição = {cores.index(cor)}, cor = {cor}')\n",
    "\n"
   ]
  },
  {
   "cell_type": "code",
   "execution_count": 23,
   "metadata": {},
   "outputs": [
    {
     "name": "stdout",
     "output_type": "stream",
     "text": [
      "Antes da listcomp =  ['Python', 'Java', 'JavaScript', 'C', 'C#', 'C++', 'Swift', 'Go', 'Kotlin']\n",
      "\n",
      "Depois da listcomp =  ['python', 'java', 'javascript', 'c', 'c#', 'c++', 'swift', 'go', 'kotlin']\n"
     ]
    }
   ],
   "source": [
    "linguagens = ['Python', 'Java', 'JavaScript', 'C', 'C#', 'C++', 'Swift', 'Go', 'Kotlin']\n",
    "\n",
    "print('Antes da listcomp = ', linguagens)\n",
    "\n",
    "linguagens = [item.lower() for item in linguagens]\n",
    "\n",
    "print('\\nDepois da listcomp = ', linguagens)"
   ]
  },
  {
   "cell_type": "code",
   "execution_count": 24,
   "metadata": {},
   "outputs": [
    {
     "name": "stdout",
     "output_type": "stream",
     "text": [
      "Tipo do objeto vogais = <class 'tuple'>\n",
      "Posição = 0, valor = a\n",
      "Posição = 1, valor = e\n",
      "Posição = 2, valor = i\n",
      "Posição = 3, valor = o\n",
      "Posição = 4, valor = u\n"
     ]
    }
   ],
   "source": [
    "vogais = ('a', 'e', 'i', 'o', 'u')\n",
    "\n",
    "print(f'Tipo do objeto vogais = {type(vogais)}')\n",
    "for p, x in enumerate(vogais):\n",
    "    print(f'Posição = {p}, valor = {x}')"
   ]
  },
  {
   "cell_type": "code",
   "execution_count": 34,
   "metadata": {},
   "outputs": [
    {
     "name": "stdout",
     "output_type": "stream",
     "text": [
      "Convidados que ainda não confirmaram:\n",
      "Alice\n",
      "Carol\n",
      "Eve\n",
      "\n",
      "Enviando lembretes para os convidados que ainda não confirmaram.\n"
     ]
    }
   ],
   "source": [
    "# Tupla de convidados\n",
    "convidados = ('Alice', 'Bob', 'Carol', 'David', 'Eve')\n",
    "# Lista de confirmações\n",
    "confirmados = ['Bob', 'David']\n",
    "# Identificar quem ainda não confirmou\n",
    "nao_confirmados = [convidado for convidado in convidados if convidado not in confirmados]\n",
    "# Exibir os convidados que ainda não confirmaram\n",
    "print('Convidados que ainda não confirmaram:')\n",
    "for pessoa in nao_confirmados:\n",
    "    print(pessoa)\n",
    "# Enviar lembretes aos não confirmados\n",
    "print('\\nEnviando lembretes para os convidados que ainda não confirmaram.')"
   ]
  },
  {
   "cell_type": "code",
   "execution_count": 63,
   "metadata": {},
   "outputs": [
    {
     "name": "stdout",
     "output_type": "stream",
     "text": [
      "nos precisamos dizer oi à vida. Nos precisamos dizer oi à vida. NOS PRECISAMOS DIZER OI À VIDA.\n"
     ]
    }
   ],
   "source": [
    "texto= \"nos precisamos dizer OI à Vida.\"\n",
    "texto_mini = texto.lower()\n",
    "testo_meio = texto.capitalize()\n",
    "texto_giga = texto.upper()\n",
    "\n",
    "print (texto_mini, testo_meio,texto_giga)"
   ]
  },
  {
   "cell_type": "code",
   "execution_count": 83,
   "metadata": {},
   "outputs": [
    {
     "name": "stdout",
     "output_type": "stream",
     "text": [
      "0 Python\n",
      "1 Java\n",
      "2 JavaScript\n",
      "3 C\n",
      "4 C#\n",
      "5 C++\n",
      "6 Swift\n",
      "7 Go\n",
      "8 Kotlin\n",
      "\n",
      " Python\n",
      "\n",
      " Java\n",
      "\n",
      " JavaScript\n",
      "\n",
      " C\n",
      "\n",
      " C#\n",
      "\n",
      " C++\n",
      "\n",
      " Swift\n",
      "\n",
      " Go\n",
      "\n",
      " Kotlin\n"
     ]
    }
   ],
   "source": [
    "linguagens = ['Python', 'Java', 'JavaScript', 'C', 'C#', 'C++', 'Swift', 'Go', 'Kotlin']\n",
    "\n",
    "for item in linguagens:\n",
    "    print (linguagens.index(item), item)\n",
    "\n",
    "for item in linguagens:\n",
    "    print (f'\\n {item}')"
   ]
  },
  {
   "cell_type": "code",
   "execution_count": 84,
   "metadata": {},
   "outputs": [
    {
     "name": "stdout",
     "output_type": "stream",
     "text": [
      "Python\n",
      "Java\n",
      "JavaScript\n",
      "C\n",
      "C#\n",
      "C++\n",
      "Swift\n",
      "Go\n",
      "Kotlin\n"
     ]
    }
   ],
   "source": [
    "#versão normal da de cima\n",
    "for item in linguagens:\n",
    "    print (item)\n"
   ]
  },
  {
   "cell_type": "code",
   "execution_count": 85,
   "metadata": {},
   "outputs": [
    {
     "name": "stdout",
     "output_type": "stream",
     "text": [
      "[525.0, 262.5, 393.75, 630.0]\n"
     ]
    }
   ],
   "source": [
    "precos_em_dolares = [100, 50, 75, 120]\n",
    "\n",
    "taxa_de_cambio = 5.25\n",
    "\n",
    "precos_em_reais = list(map(lambda x: x * taxa_de_cambio, precos_em_dolares))\n",
    "\n",
    "print(precos_em_reais)"
   ]
  },
  {
   "cell_type": "code",
   "execution_count": 89,
   "metadata": {},
   "outputs": [
    {
     "name": "stdout",
     "output_type": "stream",
     "text": [
      "[2, 4, 6, 8, 10]\n"
     ]
    }
   ],
   "source": [
    "numeros = [1, 2, 3, 4, 5, 6, 7, 8, 9, 10]\n",
    "\n",
    "numeros_pares = list(filter(lambda x: x % 2 == 0, numeros))\n",
    "\n",
    "print(numeros_pares)"
   ]
  }
 ],
 "metadata": {
  "kernelspec": {
   "display_name": "Python 3",
   "language": "python",
   "name": "python3"
  },
  "language_info": {
   "codemirror_mode": {
    "name": "ipython",
    "version": 3
   },
   "file_extension": ".py",
   "mimetype": "text/x-python",
   "name": "python",
   "nbconvert_exporter": "python",
   "pygments_lexer": "ipython3",
   "version": "3.11.9"
  }
 },
 "nbformat": 4,
 "nbformat_minor": 2
}
