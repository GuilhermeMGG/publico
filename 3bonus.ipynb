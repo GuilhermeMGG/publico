{
 "cells": [
  {
   "cell_type": "code",
   "execution_count": 1,
   "metadata": {},
   "outputs": [],
   "source": [
    "import sqlite3"
   ]
  },
  {
   "cell_type": "code",
   "execution_count": 2,
   "metadata": {},
   "outputs": [],
   "source": [
    "# Passo 1: Conectar ao banco de dados SQLite (ou criá-lo, se não existir)\n",
    "\n",
    "conn = sqlite3.connect('funcionarios.db')"
   ]
  },
  {
   "cell_type": "code",
   "execution_count": 3,
   "metadata": {},
   "outputs": [
    {
     "data": {
      "text/plain": [
       "<sqlite3.Cursor at 0x21b6fb66fc0>"
      ]
     },
     "execution_count": 3,
     "metadata": {},
     "output_type": "execute_result"
    }
   ],
   "source": [
    "# Passo 2: Criar a tabela de funcionários\n",
    "cursor = conn.cursor()\n",
    "cursor.execute('''\n",
    "    CREATE TABLE IF NOT EXISTS funcionarios (\n",
    "\n",
    "        id INTEGER PRIMARY KEY,\n",
    "\n",
    "        nome TEXT,\n",
    "\n",
    "        cargo TEXT,\n",
    "\n",
    "        salario REAL\n",
    "\n",
    "    )\n",
    "''')"
   ]
  },
  {
   "cell_type": "code",
   "execution_count": 4,
   "metadata": {},
   "outputs": [],
   "source": [
    "# Passo 3: Inserir um novo funcionário na tabela\n",
    "novo_funcionario = (1, 'João', 'Analista', 5000.00)\n",
    "cursor.execute('INSERT INTO funcionarios VALUES (?, ?, ?, ?)', novo_funcionario)\n",
    "conn.commit()"
   ]
  },
  {
   "cell_type": "code",
   "execution_count": 8,
   "metadata": {},
   "outputs": [
    {
     "name": "stdout",
     "output_type": "stream",
     "text": [
      "Funcionários Cadastrados:\n"
     ]
    }
   ],
   "source": [
    "# Passo 4: Consultar e exibir funcionários\n",
    "cursor.execute(\"SELECT * FROM funcionarios\")\n",
    "funcionarios = cursor.fetchall()\n",
    "print('Funcionários Cadastrados:')\n",
    "for funcionario in funcionarios:\n",
    "    print(funcionario)"
   ]
  },
  {
   "cell_type": "code",
   "execution_count": 6,
   "metadata": {},
   "outputs": [],
   "source": [
    "# Passo 5: Atualizar informações de um funcionário\n",
    "atualizacao = ('João Silva', 5500.00, 1)\n",
    "cursor.execute('UPDATE funcionarios SET nome = ?, salario = ? WHERE id = ?', atualizacao)\n",
    "conn.commit()"
   ]
  },
  {
   "cell_type": "code",
   "execution_count": 7,
   "metadata": {},
   "outputs": [],
   "source": [
    "# Passo 6: Deletar um funcionário da tabela\n",
    "\n",
    "id_funcionario_para_deletar = 1\n",
    "\n",
    "cursor.execute('DELETE FROM funcionarios WHERE id = ?', (id_funcionario_para_deletar,))\n",
    "\n",
    "conn.commit()\n",
    "\n"
   ]
  }
 ],
 "metadata": {
  "kernelspec": {
   "display_name": "Python 3",
   "language": "python",
   "name": "python3"
  },
  "language_info": {
   "codemirror_mode": {
    "name": "ipython",
    "version": 3
   },
   "file_extension": ".py",
   "mimetype": "text/x-python",
   "name": "python",
   "nbconvert_exporter": "python",
   "pygments_lexer": "ipython3",
   "version": "3.11.9"
  }
 },
 "nbformat": 4,
 "nbformat_minor": 2
}
