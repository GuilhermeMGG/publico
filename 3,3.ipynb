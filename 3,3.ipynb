{
 "cells": [
  {
   "cell_type": "markdown",
   "metadata": {},
   "source": [
    "Tipo de Dado                   Descrição do Dado                  Método para Leitura            Método para Escrita\n",
    "\n",
    "Texto                          CSV                                read_csv                       to_csv\n",
    "\n",
    "Texto                          Fixe-width                         read_fwf\n",
    "\n",
    "Texto                          JSON                               read_json                      to_json\n",
    "\n",
    "Texto                          HTML                               read_html                      to_html\n",
    "\n",
    "Texto                          Latex                                                             styler.to_latex\n",
    "\n",
    "Texto                          XML                                read_xml                       to_xml\n",
    "\n",
    "Texto                          Local Clipboard                    read_clipboard                 to_clipboard\n",
    "\n",
    "Binário                        MS Excel                           read_excel                     to_excel\n",
    "\n",
    "Binário                        OpenDocument                       read_excel \n",
    "\n",
    "Binário                        HDF5 Format                        read_hdf                       to_hdf\n",
    "\n",
    "Binário                        Feather Fomart                     read_feather                   to_feather\n",
    "\n",
    "Binário                        Parquet Format                     read­_parquet                   to_parquet \n",
    "\n",
    "Binário                        ORC Format                         read_orc\n",
    "\n",
    "Binário                        MsgPack                            read_msgpack                   to_msgpack\n",
    "\n",
    "Binário                        Stata                              read_stata                     to_stata\n",
    "\n",
    "Binário                        SAS                                read_sas\n",
    "\n",
    "Binário                        SPSS                               read_spss\n",
    "\n",
    "Binário                        Python Pickle Format               read_pickle                    to_picke\n",
    "\n",
    "SQL                            SQL                                read_sql                       to_sql\n",
    "\n",
    "SQL                            Google BigQuery                    read_gbq                       to_gbq\n",
    "\n"
   ]
  },
  {
   "cell_type": "code",
   "execution_count": 2,
   "metadata": {},
   "outputs": [],
   "source": [
    "import pandas as pd"
   ]
  },
  {
   "cell_type": "code",
   "execution_count": 4,
   "metadata": {},
   "outputs": [
    {
     "name": "stdout",
     "output_type": "stream",
     "text": [
      "<class 'pandas.core.frame.DataFrame'>\n",
      "RangeIndex: 9599 entries, 0 to 9598\n",
      "Data columns (total 2 columns):\n",
      " #   Column  Non-Null Count  Dtype  \n",
      "---  ------  --------------  -----  \n",
      " 0   data    9599 non-null   object \n",
      " 1   valor   9599 non-null   float64\n",
      "dtypes: float64(1), object(1)\n",
      "memory usage: 150.1+ KB\n",
      "None\n"
     ]
    },
    {
     "data": {
      "text/html": [
       "<div>\n",
       "<style scoped>\n",
       "    .dataframe tbody tr th:only-of-type {\n",
       "        vertical-align: middle;\n",
       "    }\n",
       "\n",
       "    .dataframe tbody tr th {\n",
       "        vertical-align: top;\n",
       "    }\n",
       "\n",
       "    .dataframe thead th {\n",
       "        text-align: right;\n",
       "    }\n",
       "</style>\n",
       "<table border=\"1\" class=\"dataframe\">\n",
       "  <thead>\n",
       "    <tr style=\"text-align: right;\">\n",
       "      <th></th>\n",
       "      <th>data</th>\n",
       "      <th>valor</th>\n",
       "    </tr>\n",
       "  </thead>\n",
       "  <tbody>\n",
       "    <tr>\n",
       "      <th>0</th>\n",
       "      <td>04/06/1986</td>\n",
       "      <td>0.065041</td>\n",
       "    </tr>\n",
       "    <tr>\n",
       "      <th>1</th>\n",
       "      <td>05/06/1986</td>\n",
       "      <td>0.067397</td>\n",
       "    </tr>\n",
       "    <tr>\n",
       "      <th>2</th>\n",
       "      <td>06/06/1986</td>\n",
       "      <td>0.066740</td>\n",
       "    </tr>\n",
       "    <tr>\n",
       "      <th>3</th>\n",
       "      <td>09/06/1986</td>\n",
       "      <td>0.068247</td>\n",
       "    </tr>\n",
       "    <tr>\n",
       "      <th>4</th>\n",
       "      <td>10/06/1986</td>\n",
       "      <td>0.067041</td>\n",
       "    </tr>\n",
       "  </tbody>\n",
       "</table>\n",
       "</div>"
      ],
      "text/plain": [
       "         data     valor\n",
       "0  04/06/1986  0.065041\n",
       "1  05/06/1986  0.067397\n",
       "2  06/06/1986  0.066740\n",
       "3  09/06/1986  0.068247\n",
       "4  10/06/1986  0.067041"
      ]
     },
     "metadata": {},
     "output_type": "display_data"
    }
   ],
   "source": [
    "df_selic = pd.read_json(\"https://api.bcb.gov.br/dados/serie/bcdata.sgs.11/dados?formato=json\")\n",
    "\n",
    "print(df_selic.info())\n",
    "display(df_selic.head())"
   ]
  }
 ],
 "metadata": {
  "kernelspec": {
   "display_name": "Python 3",
   "language": "python",
   "name": "python3"
  },
  "language_info": {
   "codemirror_mode": {
    "name": "ipython",
    "version": 3
   },
   "file_extension": ".py",
   "mimetype": "text/x-python",
   "name": "python",
   "nbconvert_exporter": "python",
   "pygments_lexer": "ipython3",
   "version": "3.11.9"
  }
 },
 "nbformat": 4,
 "nbformat_minor": 2
}
