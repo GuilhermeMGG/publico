{
 "cells": [
  {
   "cell_type": "code",
   "execution_count": 1,
   "metadata": {},
   "outputs": [
    {
     "name": "stdout",
     "output_type": "stream",
     "text": [
      "Olá Mundo! (pela decima quinta vez)\n"
     ]
    }
   ],
   "source": [
    "print (\"Olá Mundo! (pela decima quinta vez)\")"
   ]
  },
  {
   "cell_type": "code",
   "execution_count": 4,
   "metadata": {},
   "outputs": [
    {
     "name": "stdout",
     "output_type": "stream",
     "text": [
      "<class 'int'>\n",
      "<class 'str'>\n",
      "<class 'float'>\n",
      "<class 'bool'>\n"
     ]
    }
   ],
   "source": [
    "x = 10\n",
    "nome = 'aluno'\n",
    "nota = 8.75\n",
    "fez_inscricao = True\n",
    "\n",
    "print(type(x))\n",
    "print(type(nome))\n",
    "print(type(nota))\n",
    "print(type(fez_inscricao))"
   ]
  },
  {
   "cell_type": "code",
   "execution_count": 7,
   "metadata": {},
   "outputs": [
    {
     "name": "stdout",
     "output_type": "stream",
     "text": [
      "olá Guilherme, tenha um dia nota 9\n"
     ]
    }
   ],
   "source": [
    "nome = input()\n",
    "print(f\"olá {nome}, tenha um dia nota {len(nome)}\")"
   ]
  },
  {
   "cell_type": "code",
   "execution_count": 11,
   "metadata": {},
   "outputs": [
    {
     "name": "stdout",
     "output_type": "stream",
     "text": [
      "a nota total foi de: 27\n",
      "a média é: 6.75\n",
      "você foi aprovado\n"
     ]
    }
   ],
   "source": [
    "nota_1 = int(input())\n",
    "nota_2 = int(input())\n",
    "nota_3 = int(input())\n",
    "nota_4 = int(input())\n",
    "\n",
    "total = (nota_1 + nota_2 + nota_3 + nota_4)\n",
    "media = total/len(notas)\n",
    "if media >= 6:\n",
    "\n",
    "    situacao = \"aprovado\"\n",
    "else:\n",
    "\n",
    "    situacao = \"reprovado\"\n",
    "print (f\"a nota total foi de: {total}\")\n",
    "print (f\"a média é: {media}\")\n",
    "print (f\"você foi {situacao}\")"
   ]
  }
 ],
 "metadata": {
  "kernelspec": {
   "display_name": "Python 3",
   "language": "python",
   "name": "python3"
  },
  "language_info": {
   "codemirror_mode": {
    "name": "ipython",
    "version": 3
   },
   "file_extension": ".py",
   "mimetype": "text/x-python",
   "name": "python",
   "nbconvert_exporter": "python",
   "pygments_lexer": "ipython3",
   "version": "3.11.9"
  }
 },
 "nbformat": 4,
 "nbformat_minor": 2
}
