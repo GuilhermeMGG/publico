{
 "cells": [
  {
   "cell_type": "code",
   "execution_count": 5,
   "metadata": {},
   "outputs": [],
   "source": [
    "import tensorflow as tf\n",
    "from tensorflow.keras.models import Sequential, Model\n",
    "from tensorflow.keras.layers import Input, Dense\n",
    "\n",
    "import gym\n",
    "\n",
    "from sklearn.model_selection import train_test_split\n",
    "from sklearn.preprocessing import MinMaxScaler\n",
    "\n",
    "import matplotlib.pyplot as plt\n",
    "import numpy as np\n",
    "import pandas as pd"
   ]
  },
  {
   "cell_type": "code",
   "execution_count": 10,
   "metadata": {},
   "outputs": [
    {
     "name": "stdout",
     "output_type": "stream",
     "text": [
      "WARNING:tensorflow:6 out of the last 6 calls to <function TensorFlowTrainer.make_predict_function.<locals>.one_step_on_data_distributed at 0x00000145F812D760> triggered tf.function retracing. Tracing is expensive and the excessive number of tracings could be due to (1) creating @tf.function repeatedly in a loop, (2) passing tensors with different shapes, (3) passing Python objects instead of tensors. For (1), please define your @tf.function outside of the loop. For (2), @tf.function has reduce_retracing=True option that can avoid unnecessary retracing. For (3), please refer to https://www.tensorflow.org/guide/function#controlling_retracing and https://www.tensorflow.org/api_docs/python/tf/function for  more details.\n",
      "\u001b[1m1/1\u001b[0m \u001b[32m━━━━━━━━━━━━━━━━━━━━\u001b[0m\u001b[37m\u001b[0m \u001b[1m0s\u001b[0m 76ms/step\n",
      "Predição Não Supervisionada: [[1.7025447 2.3533149]\n",
      " [2.304589  3.161343 ]\n",
      " [2.9066336 3.9693718]\n",
      " [3.5086782 4.7774005]]\n"
     ]
    }
   ],
   "source": [
    "# Dados de exemplo\n",
    "\n",
    "X_unsupervised = tf.constant([[1.0, 2.0], [2.0, 3.0], [3.0, 4.0], [4.0, 5.0]])\n",
    "\n",
    "# Modelo Autoencoder Simples\n",
    "input_layer = Input(shape=(2,))\n",
    "encoded = Dense(units=1)(input_layer)\n",
    "decoded = Dense(units=2)(encoded)\n",
    "\n",
    "autoencoder = Model(inputs=input_layer, outputs=decoded)\n",
    "autoencoder.compile(optimizer='adam', loss='mean_squared_error')\n",
    "\n",
    "# Treinamento do modelo não supervisionado\n",
    "autoencoder.fit(X_unsupervised, X_unsupervised, epochs=1000, verbose=0)\n",
    "\n",
    "# Previsão\n",
    "prediction_unsupervised = autoencoder.predict(X_unsupervised)\n",
    "print(\"Predição Não Supervisionada:\", prediction_unsupervised)"
   ]
  },
  {
   "cell_type": "code",
   "execution_count": 11,
   "metadata": {},
   "outputs": [
    {
     "name": "stdout",
     "output_type": "stream",
     "text": [
      "\u001b[1m1/1\u001b[0m \u001b[32m━━━━━━━━━━━━━━━━━━━━\u001b[0m\u001b[37m\u001b[0m \u001b[1m0s\u001b[0m 74ms/step\n",
      "Predição: 9.975544\n"
     ]
    },
    {
     "data": {
      "image/png": "[encoded data removed]",
      "text/plain": [
       "<Figure size 640x480 with 1 Axes>"
      ]
     },
     "metadata": {},
     "output_type": "display_data"
    }
   ],
   "source": [
    "# Dados de exemplo\n",
    "X_train = tf.constant([[1.0], [2.0], [3.0], [4.0]])\n",
    "y_train = tf.constant([[2.0], [4.0], [6.0], [8.0]])\n",
    "\n",
    "# Modelo de Regressão Linear Simples\n",
    "model = Sequential()\n",
    "model.add(Dense(units=1, input_shape=(1,)))\n",
    "model.compile(optimizer='sgd', loss='mean_squared_error')\n",
    "\n",
    "# Treinamento do modelo\n",
    "model.fit(X_train, y_train, epochs=1000, verbose=0)\n",
    "\n",
    "# Previsão\n",
    "X_new = tf.constant([[5.0]])\n",
    "prediction = model.predict(X_new)\n",
    "print(\"Predição:\", prediction[0][0])\n",
    "plt.ylabel('Notas')\n",
    "plt.show()"
   ]
  },
  {
   "cell_type": "code",
   "execution_count": 12,
   "metadata": {},
   "outputs": [
    {
     "ename": "ValueError",
     "evalue": "too many values to unpack (expected 4)",
     "output_type": "error",
     "traceback": [
      "\u001b[1;31m---------------------------------------------------------------------------\u001b[0m",
      "\u001b[1;31mValueError\u001b[0m                                Traceback (most recent call last)",
      "Cell \u001b[1;32mIn[12], line 24\u001b[0m\n\u001b[0;32m     21\u001b[0m \u001b[38;5;28;01mwhile\u001b[39;00m \u001b[38;5;129;01mnot\u001b[39;00m done:\n\u001b[0;32m     23\u001b[0m     action \u001b[38;5;241m=\u001b[39m env\u001b[38;5;241m.\u001b[39maction_space\u001b[38;5;241m.\u001b[39msample()\n\u001b[1;32m---> 24\u001b[0m     next_state, reward, done, _ \u001b[38;5;241m=\u001b[39m env\u001b[38;5;241m.\u001b[39mstep(action)\n\u001b[0;32m     25\u001b[0m     target \u001b[38;5;241m=\u001b[39m reward \u001b[38;5;241m+\u001b[39m \u001b[38;5;241m0.95\u001b[39m \u001b[38;5;241m*\u001b[39m tf\u001b[38;5;241m.\u001b[39mreduce_max(model_reinforcement\u001b[38;5;241m.\u001b[39mpredict(next_state\u001b[38;5;241m.\u001b[39mreshape(\u001b[38;5;241m1\u001b[39m, \u001b[38;5;241m-\u001b[39m\u001b[38;5;241m1\u001b[39m)))\n\u001b[0;32m     26\u001b[0m     target_f \u001b[38;5;241m=\u001b[39m model_reinforcement\u001b[38;5;241m.\u001b[39mpredict(state\u001b[38;5;241m.\u001b[39mreshape(\u001b[38;5;241m1\u001b[39m, \u001b[38;5;241m-\u001b[39m\u001b[38;5;241m1\u001b[39m))\n",
      "\u001b[1;31mValueError\u001b[0m: too many values to unpack (expected 4)"
     ]
    }
   ],
   "source": [
    "# Ambiente CartPole do Gym\n",
    "env = gym.make('CartPole-v1')\n",
    "\n",
    "# Modelo Simples para Aprendizado por Reforço\n",
    "model_reinforcement = tf.keras.Sequential([\n",
    "\n",
    "    tf.keras.layers.Dense(24, activation='relu', input_shape=(env.observation_space.shape[0],)),\n",
    "    tf.keras.layers.Dense(env.action_space.n, activation='linear')\n",
    "])\n",
    "\n",
    "model_reinforcement.compile(optimizer=tf.keras.optimizers.Adam(learning_rate=0.001), loss='mse')\n",
    "\n",
    "# Treinamento por Reforço (exemplo fictício)\n",
    "max_episodes = 1000  # Defina o número máximo de episódios\n",
    "\n",
    "for episode in range(max_episodes):\n",
    "\n",
    "    state = env.reset()\n",
    "    done = False\n",
    "\n",
    "    while not done:\n",
    "\n",
    "        action = env.action_space.sample()\n",
    "        next_state, reward, done, _ = env.step(action)\n",
    "        target = reward + 0.95 * tf.reduce_max(model_reinforcement.predict(next_state.reshape(1, -1)))\n",
    "        target_f = model_reinforcement.predict(state.reshape(1, -1))\n",
    "        target_f[0][action] = target\n",
    "        model_reinforcement.fit(state.reshape(1, -1), target_f, epochs=1, verbose=0)\n",
    "        state = next_state\n",
    "\n",
    "    # Condição de parada\n",
    "    if episode % 10 == 0:\n",
    "\n",
    "        average_reward = sum(reward for _ in range(10)) / 10.0\n",
    "        print(f'Episode {episode}, Average Reward: {average_reward}')\n",
    "\n",
    "        # Adicionando uma condição de parada\n",
    "        if average_reward == 1:  # Pode ajustar esse valor conforme necessário\n",
    "\n",
    "            print(f'Solved after {episode} episodes!')\n",
    "            break"
   ]
  },
  {
   "cell_type": "code",
   "execution_count": 13,
   "metadata": {},
   "outputs": [
    {
     "data": {
      "image/png": "[encoded data removed]",
      "text/plain": [
       "<Figure size 640x480 with 1 Axes>"
      ]
     },
     "metadata": {},
     "output_type": "display_data"
    },
    {
     "ename": "NameError",
     "evalue": "name 'X_test' is not defined",
     "output_type": "error",
     "traceback": [
      "\u001b[1;31m---------------------------------------------------------------------------\u001b[0m",
      "\u001b[1;31mNameError\u001b[0m                                 Traceback (most recent call last)",
      "Cell \u001b[1;32mIn[13], line 19\u001b[0m\n\u001b[0;32m     17\u001b[0m scaler \u001b[38;5;241m=\u001b[39m MinMaxScaler()\n\u001b[0;32m     18\u001b[0m X_train_scaled \u001b[38;5;241m=\u001b[39m scaler\u001b[38;5;241m.\u001b[39mfit_transform(X_train)\n\u001b[1;32m---> 19\u001b[0m X_test_scaled \u001b[38;5;241m=\u001b[39m scaler\u001b[38;5;241m.\u001b[39mtransform(\u001b[43mX_test\u001b[49m)\n\u001b[0;32m     21\u001b[0m \u001b[38;5;66;03m# Divida os dados em conjunto de treinamento e teste\u001b[39;00m\n\u001b[0;32m     22\u001b[0m X \u001b[38;5;241m=\u001b[39m dados[[\u001b[38;5;124m'\u001b[39m\u001b[38;5;124mMes\u001b[39m\u001b[38;5;124m'\u001b[39m]]\n",
      "\u001b[1;31mNameError\u001b[0m: name 'X_test' is not defined"
     ]
    }
   ],
   "source": [
    "# Crie dados fictícios de vendas ao longo do tempo\n",
    "np.random.seed(42)\n",
    "meses = np.arange(1, 13)\n",
    "vendas = np.array([200, 220, 250, 280, 300, 320, 350, 380, 400, 420, 450, 480])\n",
    "\n",
    "# Crie um DataFrame\n",
    "dados = pd.DataFrame({'Mes': meses, 'Vendas': vendas})\n",
    "\n",
    "# Visualize os dados\n",
    "plt.scatter(dados['Mes'], dados['Vendas'])\n",
    "plt.xlabel('Mês')\n",
    "plt.ylabel('Vendas')\n",
    "plt.title('Dados de Vendas ao Longo do Tempo')\n",
    "plt.show()\n",
    "\n",
    "# Normalização dos dados de treinamento\n",
    "scaler = MinMaxScaler()\n",
    "X_train_scaled = scaler.fit_transform(X_train)\n",
    "X_test_scaled = scaler.transform(X_test)\n",
    "\n",
    "# Divida os dados em conjunto de treinamento e teste\n",
    "X = dados[['Mes']]\n",
    "y = dados['Vendas']\n",
    "X_train, X_test, y_train, y_test = train_test_split(X, y, test_size=0.2, random_state=42)\n",
    "\n",
    "# Crie e treine o modelo de regressão linear usando TensorFlow\n",
    "model = tf.keras.Sequential([\n",
    "\n",
    "    tf.keras.layers.Input(shape=(1,)),  # Camada de entrada\n",
    "    tf.keras.layers.Dense(units=8, activation='relu'),  # Camada escondida com ativação ReLU\n",
    "    tf.keras.layers.Dense(units=1)  # Camada de saída\n",
    "])\n",
    "\n",
    "model.compile(optimizer='adam', loss='mean_squared_error')\n",
    "\n",
    "# Treine o modelo por mais épocas\n",
    "model.fit(X_train, y_train, epochs=500, verbose=0)\n",
    "\n",
    "# Faça previsões no conjunto de teste\n",
    "predictions = model.predict(X_test)\n",
    "\n",
    "# Desfaça a normalização para avaliar o desempenho\n",
    "min_sales = dados['Vendas'].min()\n",
    "max_sales = dados['Vendas'].max()\n",
    "\n",
    "predictions_inverse = predictions * (max_sales - min_sales) + min_sales\n",
    "y_test_inverse = y_test * (max_sales - min_sales) + min_sales\n",
    "\n",
    "# Visualize as previsões em relação aos dados reais\n",
    "plt.scatter(X_test, y_test_inverse, label='Dados Reais')\n",
    "plt.plot(X_test, predictions_inverse, color='red', label='Previsões')\n",
    "plt.xlabel('Mês')\n",
    "plt.ylabel('Vendas')\n",
    "plt.title('Previsões de Vendas com Regressão Linear (TensorFlow)')\n",
    "plt.legend()\n",
    "plt.show()\n",
    "\n",
    "# Avalie o desempenho do modelo\n",
    "erro_mse = mean_squared_error(y_test_inverse, predictions_inverse)\n",
    "\n",
    "print(f'Erro Médio Quadrático (MSE): {erro_mse:.2f}')\n",
    "\n",
    "# Faça uma previsão para o próximo mês\n",
    "proximo_mes_scaled = scaler.transform(np.array([[13]]))\n",
    "previsao_proximo_mes_scaled = model.predict(proximo_mes_scaled)\n",
    "previsao_proximo_mes = scaler.inverse_transform(previsao_proximo_mes_scaled)[0, 0]\n",
    "\n",
    "print(f'Previsão de Vendas para o Próximo Mês: {previsao_proximo_mes:.2f}')"
   ]
  },
  {
   "cell_type": "code",
   "execution_count": null,
   "metadata": {},
   "outputs": [],
   "source": []
  }
 ],
 "metadata": {
  "kernelspec": {
   "display_name": "Python 3",
   "language": "python",
   "name": "python3"
  },
  "language_info": {
   "codemirror_mode": {
    "name": "ipython",
    "version": 3
   },
   "file_extension": ".py",
   "mimetype": "text/x-python",
   "name": "python",
   "nbconvert_exporter": "python",
   "pygments_lexer": "ipython3",
   "version": "3.11.9"
  }
 },
 "nbformat": 4,
 "nbformat_minor": 2
}
