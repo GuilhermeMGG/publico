{
 "cells": [
  {
   "cell_type": "code",
   "execution_count": 2,
   "metadata": {},
   "outputs": [
    {
     "name": "stdout",
     "output_type": "stream",
     "text": [
      "Olá, meu nome é João.\n",
      "Idade: 30\n",
      "Nova idade: 31\n"
     ]
    }
   ],
   "source": [
    "# Define uma classe chamada Pessoa.\n",
    "class Pessoa:\n",
    "    # O método __init__ é um construtor, chamado quando um objeto da classe é criado.\n",
    "    # Ele inicializa os atributos da classe.\n",
    "\n",
    "    def __init__(self, nome, idade, genero):\n",
    "\n",
    "        # self é uma convenção em Python que se refere à própria instância da classe.\n",
    "        # Os parâmetros nome, idade e gênero são passados durante a criação do objeto.\n",
    "        # Eles são usados para inicializar os atributos da instância.\n",
    "\n",
    "        self.nome = nome  # Atribui o valor de nome ao atributo nome da instância.\n",
    "        self.idade = idade  # Atribui o valor de idade ao atributo idade da instância.\n",
    "        self.genero = genero  # Atribui o valor de gênero ao atributo gênero da instância.\n",
    "\n",
    "    # O método cumprimentar retorna uma saudação com o nome da pessoa.\n",
    "    def cumprimentar(self):\n",
    "        return f\"Olá, meu nome é {self.nome}.\"\n",
    "\n",
    "    # O método aniversário aumenta a idade da pessoa em 1.\n",
    "    def aniversario(self):\n",
    "        self.idade += 1\n",
    "\n",
    "# Cria uma instância da classe “Pessoa” com os valores “João”, 30 e “Masculino” para nome, idade e gênero, respectivamente.\n",
    "pessoa1 = Pessoa(\"João\", 30, \"Masculino\")\n",
    "\n",
    "# Chama o método “cumprimentar” na instância pessoa1 e imprime a saudação.\n",
    "print(pessoa1.cumprimentar())  # Saída: “Olá, meu nome é João.”\n",
    "\n",
    "# Acessa o atributo idade da instância pessoa1 e imprime sua idade.\n",
    "print(f\"Idade: {pessoa1.idade}\")  # Saída: “Idade: 30”\n",
    "\n",
    "# Chama o método “aniversário” na instância pessoa1 para aumentar sua idade em 1.\n",
    "pessoa1.aniversario()\n",
    "\n",
    "# Acessa o atributo idade atualizado da instância pessoa1 e imprime a nova idade.\n",
    "print(f\"Nova idade: {pessoa1.idade}\")  # Saída: “Nova idade: 31”"
   ]
  },
  {
   "cell_type": "code",
   "execution_count": 3,
   "metadata": {},
   "outputs": [
    {
     "ename": "IndentationError",
     "evalue": "expected an indented block after class definition on line 1 (1376062544.py, line 7)",
     "output_type": "error",
     "traceback": [
      "\u001b[1;36m  Cell \u001b[1;32mIn[3], line 7\u001b[1;36m\u001b[0m\n\u001b[1;33m    class ClasseFilha(ClassePai1, ClassePai2, ClassePai3):\u001b[0m\n\u001b[1;37m    ^\u001b[0m\n\u001b[1;31mIndentationError\u001b[0m\u001b[1;31m:\u001b[0m expected an indented block after class definition on line 1\n"
     ]
    }
   ],
   "source": [
    "class ClasseFilha(ClassePai):\n",
    "\n",
    "# Definição da classe-filha\n",
    "\n",
    " \n",
    "\n",
    "class ClasseFilha(ClassePai1, ClassePai2, ClassePai3):\n",
    "\n",
    "    # Definição da classe-filha"
   ]
  },
  {
   "cell_type": "code",
   "execution_count": 6,
   "metadata": {},
   "outputs": [
    {
     "name": "stdout",
     "output_type": "stream",
     "text": [
      "Rex faz: Latir\n",
      "Whiskers faz: Miar\n"
     ]
    }
   ],
   "source": [
    "class Animal:\n",
    "\n",
    "    def __init__(self, nome):\n",
    "        self.nome = nome\n",
    "    def fazer_barulho(self):\n",
    "        pass\n",
    "\n",
    "class Cachorro(Animal):\n",
    "\n",
    "    def fazer_barulho(self):\n",
    "        return 'Latir'\n",
    "\n",
    "class Gato(Animal):\n",
    "\n",
    "    def fazer_barulho(self):\n",
    "        return 'Miar'\n",
    "rex = Cachorro('Rex')\n",
    "\n",
    "whiskers = Gato('Whiskers')\n",
    "\n",
    "# Chamando o método fazer_barulho em objetos\n",
    "print (f'{rex.nome} faz: {rex.fazer_barulho()}')\n",
    "print (f'{whiskers.nome} faz: {whiskers.fazer_barulho()}')\n"
   ]
  },
  {
   "cell_type": "code",
   "execution_count": 7,
   "metadata": {},
   "outputs": [
    {
     "name": "stdout",
     "output_type": "stream",
     "text": [
      "Status do Carro:\n",
      "Marca: Toyota, Modelo: Corolla, Ano: 2022, Velocidade: 200 km/h\n",
      "\n",
      "Status da Bicicleta:\n",
      "Marca: Trek, Modelo: Mountain Bike, Ano: 2021, Tipo: MTB, Velocidade: 20 km/h\n"
     ]
    }
   ],
   "source": [
    "class Veiculo:\n",
    "    def __init__(self, marca, modelo, ano):\n",
    "        self.marca = marca\n",
    "        self.modelo = modelo\n",
    "        self.ano = ano\n",
    "        self.velocidade = 0\n",
    "\n",
    "    def acelerar(self, incremento):\n",
    "        self.velocidade += incremento\n",
    "\n",
    "    def frear(self, decremento):\n",
    "        self.velocidade -= decremento\n",
    "\n",
    "    def status(self):\n",
    "        return f'Marca: {self.marca}, Modelo: {self.modelo}, Ano: {self.ano}, Velocidade: {self.velocidade} km/h'\n",
    "\n",
    "class Carro(Veiculo):\n",
    "    def __init__(self, marca, modelo, ano, potencia):\n",
    "        super().__init__(marca, modelo, ano)\n",
    "        self.potencia = potencia\n",
    "\n",
    "    def acelerar(self, incremento):\n",
    "        # Carros podem acelerar mais rápido.\n",
    "        self.velocidade += incremento + self.potencia\n",
    "\n",
    "class Bicicleta(Veiculo):\n",
    "    def __init__(self, marca, modelo, ano, tipo):\n",
    "        super().__init__(marca, modelo, ano)\n",
    "        self.tipo = tipo\n",
    "\n",
    "    def status(self):\n",
    "        return f'Marca: {self.marca}, Modelo: {self.modelo}, Ano: {self.ano}, Tipo: {self.tipo}, Velocidade: {self.velocidade} km/h'\n",
    "\n",
    " \n",
    "# Criando objetos\n",
    "carro1 = Carro('Toyota', 'Corolla', 2022, 150)\n",
    "bicicleta1 = Bicicleta('Trek', 'Mountain Bike', 2021, 'MTB')\n",
    "\n",
    " \n",
    "\n",
    "# Acelerando e verificando o status\n",
    "carro1.acelerar(50)\n",
    "bicicleta1.acelerar(20)\n",
    "\n",
    "# Exibindo o status dos veículos\n",
    "print('Status do Carro:')\n",
    "print(carro1.status())\n",
    "\n",
    "print('\\nStatus da Bicicleta:')\n",
    "print(bicicleta1.status())"
   ]
  },
  {
   "cell_type": "code",
   "execution_count": null,
   "metadata": {},
   "outputs": [],
   "source": [
    "# Python program to demonstrate working\n",
    "# of map.\n",
    "\n",
    "# Return double of n\n",
    "def addition(n):\n",
    "    return n + n\n",
    "\n",
    "# We double all numbers using map()\n",
    "numbers = (1, 2, 3, 4)\n",
    "result = map(addition, numbers)\n",
    "print(list(result))"
   ]
  }
 ],
 "metadata": {
  "kernelspec": {
   "display_name": "Python 3",
   "language": "python",
   "name": "python3"
  },
  "language_info": {
   "codemirror_mode": {
    "name": "ipython",
    "version": 3
   },
   "file_extension": ".py",
   "mimetype": "text/x-python",
   "name": "python",
   "nbconvert_exporter": "python",
   "pygments_lexer": "ipython3",
   "version": "3.11.9"
  }
 },
 "nbformat": 4,
 "nbformat_minor": 2
}
