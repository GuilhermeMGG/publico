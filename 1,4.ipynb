{
 "cells": [
  {
   "cell_type": "code",
   "execution_count": 1,
   "metadata": {},
   "outputs": [
    {
     "name": "stdout",
     "output_type": "stream",
     "text": [
      "a lista tem 5 itens\n"
     ]
    }
   ],
   "source": [
    "# Cria uma lista de números\n",
    "numeros = [1, 2, 3, 4, 5]\n",
    "# Usa a função len() para calcular o comprimento da lista\n",
    "comprimento = len(numeros)\n",
    "print(f'a lista tem {comprimento} itens')"
   ]
  },
  {
   "cell_type": "code",
   "execution_count": null,
   "metadata": {},
   "outputs": [],
   "source": [
    "# Definindo uma função chamada \"soma\"\n",
    "def soma(a, b):\n",
    "    resultado = a + b\n",
    "    return resultado\n",
    "\n",
    "resultado_da_soma = soma(6,3)\n",
    "resultado_da_soma"
   ]
  },
  {
   "cell_type": "code",
   "execution_count": null,
   "metadata": {},
   "outputs": [],
   "source": [
    "def e_par(numero):\n",
    "    if numero % 2 == 0:\n",
    "        return True\n",
    "    else:\n",
    "        return False\n",
    "    \n",
    "# Testando a função\n",
    "\n",
    "numero = 123120\n",
    "if e_par(numero):\n",
    "    print(f'{numero} é um número par.')\n",
    "else:\n",
    "    print(f'{numero} não é um número par.')"
   ]
  },
  {
   "cell_type": "code",
   "execution_count": null,
   "metadata": {},
   "outputs": [],
   "source": [
    "#LAMBDA\n",
    "soma = lambda a, b: a + b\n",
    "\n",
    "resultado = soma(3, 4)\n",
    "\n",
    "print(resultado)  # Isso imprimirá 7"
   ]
  },
  {
   "cell_type": "code",
   "execution_count": null,
   "metadata": {},
   "outputs": [],
   "source": [
    "# Lista de notas dos estudantes\n",
    "notas = [7.5, 8.0, 6.5, 9.0, 7.0]\n",
    "\n",
    "# Função regular para calcular a média\n",
    "def calcular_media(notas):\n",
    "    total = sum(notas)\n",
    "    media = total / len(notas)\n",
    "    return media\n",
    "\n",
    "# Função lambda para arredondar a média para duas casas decimais\n",
    "arredondar_media = lambda media: round(media, 2)\n",
    "\n",
    "# Calcular a média\n",
    "media = calcular_media(notas)\n",
    "media_arredondada = arredondar_media(media)\n",
    "\n",
    "# Verificar se os estudantes foram aprovados\n",
    "if media_arredondada >= 7:\n",
    "    situacao = \"aprovado\"\n",
    "else:\n",
    "    situacao = \"reprovado\"\n",
    "\n",
    "\n",
    "# Resultados\n",
    "print(notas)\n",
    "print(media)\n",
    "print(media_arredondada)\n",
    "print(situacao)"
   ]
  },
  {
   "cell_type": "markdown",
   "metadata": {},
   "source": [
    "Encerramento"
   ]
  },
  {
   "cell_type": "code",
   "execution_count": null,
   "metadata": {},
   "outputs": [],
   "source": [
    "# Solicita ao usuário que insira o valor do produto e o percentual de desconto\n",
    "valor_produto = float(input())\n",
    "percentual_desconto = float(input())\n",
    "\n",
    "# Verifica se o percentual de desconto está dentro dos limites aceitáveis (0-100%)\n",
    "if percentual_desconto < 0 or percentual_desconto > 100:\n",
    "    print(\"desconto invalido\")\n",
    "else:\n",
    "    # Calcula o valor do desconto\n",
    "    desconto = valor_produto * (percentual_desconto / 100)\n",
    "\n",
    "    # Calcula o valor final da compra\n",
    "    valor_final = valor_produto - desconto\n",
    "\n",
    "    # Exibe o valor final da compra\n",
    "    print(f\"o preço será de: {valor_final}\")"
   ]
  }
 ],
 "metadata": {
  "kernelspec": {
   "display_name": "Python 3",
   "language": "python",
   "name": "python3"
  },
  "language_info": {
   "codemirror_mode": {
    "name": "ipython",
    "version": 3
   },
   "file_extension": ".py",
   "mimetype": "text/x-python",
   "name": "python",
   "nbconvert_exporter": "python",
   "pygments_lexer": "ipython3",
   "version": "3.11.9"
  }
 },
 "nbformat": 4,
 "nbformat_minor": 2
}
