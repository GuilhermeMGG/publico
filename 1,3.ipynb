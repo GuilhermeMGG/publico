{
 "cells": [
  {
   "cell_type": "code",
   "execution_count": 5,
   "metadata": {},
   "outputs": [
    {
     "name": "stdout",
     "output_type": "stream",
     "text": [
      "1\n",
      "2\n",
      "3\n",
      "4\n",
      "5\n"
     ]
    }
   ],
   "source": [
    "numeros = [1, 2, 3, 4, 5]\n",
    "\n",
    "for numero in numeros:\n",
    "    print(numero)"
   ]
  },
  {
   "cell_type": "code",
   "execution_count": 7,
   "metadata": {},
   "outputs": [
    {
     "name": "stdout",
     "output_type": "stream",
     "text": [
      "o numero é impar\n",
      "o numero é impar\n",
      "o numero é impar\n",
      "o numero é par\n"
     ]
    }
   ],
   "source": [
    "numero = int(input('Digite um número (ou 0 para sair):'))\n",
    "\n",
    "while numero != 0:\n",
    "    if numero %2 ==0:\n",
    "        print('o numero é par')\n",
    "    else:\n",
    "        print (\"o numero é impar\")\n",
    "    numero = int(input(\"digite outro numero (ou 0 para sair)\"))"
   ]
  },
  {
   "cell_type": "code",
   "execution_count": 10,
   "metadata": {},
   "outputs": [
    {
     "name": "stdout",
     "output_type": "stream",
     "text": [
      "0\n",
      "1\n",
      "2\n",
      "3\n",
      "4\n"
     ]
    }
   ],
   "source": [
    "#ALCANCE\n",
    "for x in range(5):\n",
    "    print(x)"
   ]
  },
  {
   "cell_type": "code",
   "execution_count": 11,
   "metadata": {},
   "outputs": [
    {
     "name": "stdout",
     "output_type": "stream",
     "text": [
      "2\n",
      "3\n",
      "4\n",
      "5\n",
      "6\n"
     ]
    }
   ],
   "source": [
    "#COMECO E FIM\n",
    "for y in range(2, 7):\n",
    "    print(y)"
   ]
  },
  {
   "cell_type": "code",
   "execution_count": 12,
   "metadata": {},
   "outputs": [
    {
     "name": "stdout",
     "output_type": "stream",
     "text": [
      "1\n",
      "3\n",
      "5\n",
      "7\n",
      "9\n"
     ]
    }
   ],
   "source": [
    "#FREQUENCIA\n",
    "for z in range(1, 11, 2):\n",
    "    print(z)"
   ]
  },
  {
   "cell_type": "code",
   "execution_count": 15,
   "metadata": {},
   "outputs": [
    {
     "name": "stdout",
     "output_type": "stream",
     "text": [
      "2\n",
      "4\n",
      "6\n",
      "8\n",
      "10\n"
     ]
    }
   ],
   "source": [
    "#PARAR\n",
    "for numero in range(1, 11):\n",
    "\n",
    "    if numero % 2 == 0:\n",
    "        print(numero)\n",
    "\n",
    "        break"
   ]
  },
  {
   "cell_type": "code",
   "execution_count": 17,
   "metadata": {},
   "outputs": [
    {
     "name": "stdout",
     "output_type": "stream",
     "text": [
      "1\n",
      "2\n",
      "3\n",
      "4\n",
      "6\n",
      "7\n",
      "8\n",
      "9\n",
      "10\n"
     ]
    }
   ],
   "source": [
    "#PULAR\n",
    "for numero in range(1, 11):\n",
    "\n",
    "    if numero == 5:\n",
    "\n",
    "        continue\n",
    "\n",
    "    print(numero)"
   ]
  },
  {
   "cell_type": "code",
   "execution_count": 44,
   "metadata": {},
   "outputs": [
    {
     "name": "stdout",
     "output_type": "stream",
     "text": [
      "bem vindo à classificação de filmes\n",
      "você tem 3 para classificar\n",
      "Digite 0 para parar a classificação.\n",
      "\n",
      "voce classificou \u001b[94mA Volta Dos Que Não Foram\u001b[0m com 3 estrelas!\n",
      "\n",
      "voce classificou \u001b[96mdetergente\u001b[0m com 5 estrelas!\n",
      "\n",
      "voce classificou \u001b[92mMinecraft 2\u001b[0m com 2 estrelas!\n",
      "\n",
      "terminamos!\n",
      " Obrigado pelo seu tempo\n"
     ]
    }
   ],
   "source": [
    "#corzinhas\n",
    "class cor:\n",
    "    HEADER = '\\033[95m'\n",
    "    OKBLUE = '\\033[94m'\n",
    "    OKCYAN = '\\033[96m'\n",
    "    OKGREEN = '\\033[92m'\n",
    "    WARNING = '\\033[93m'\n",
    "    FAIL = '\\033[91m'\n",
    "    ENDC = '\\033[0m'\n",
    "    BOLD = '\\033[1m'\n",
    "    UNDERLINE = '\\033[4m'\n",
    "\n",
    "filmes = (f\"{cor.OKBLUE}A Volta Dos Que Não Foram{cor.ENDC}\", f\"{cor.OKCYAN}Detergente{cor.ENDC}\", f\"{cor.OKGREEN}Minecraft 2{cor.ENDC}\")\n",
    "print(\"bem vindo à classificação de filmes\")\n",
    "print(f\"você tem {len(filmes)} para classificar\")\n",
    "print(\"Digite 0 para parar a classificação.\\n\")\n",
    "\n",
    "for filme in filmes:\n",
    "    nota = int(input(f\"de 1 a 5, qual nota você dá para {filme}\"))\n",
    "\n",
    "    if nota == 0:\n",
    "        print('você parou a avaliação de filmes.')\n",
    "        break\n",
    "    if nota < 1 or nota > 5 :\n",
    "        print ('apenas aceitamos notas de 1 a 5')\n",
    "    else:\n",
    "        print(f\"voce classificou {filme} com {nota} estrelas!\\n\")\n",
    "\n",
    "print (\"terminamos!\\n Obrigado pelo seu tempo\")\n",
    " \n",
    "\n",
    "\n"
   ]
  }
 ],
 "metadata": {
  "kernelspec": {
   "display_name": "Python 3",
   "language": "python",
   "name": "python3"
  },
  "language_info": {
   "codemirror_mode": {
    "name": "ipython",
    "version": 3
   },
   "file_extension": ".py",
   "mimetype": "text/x-python",
   "name": "python",
   "nbconvert_exporter": "python",
   "pygments_lexer": "ipython3",
   "version": "3.11.9"
  }
 },
 "nbformat": 4,
 "nbformat_minor": 2
}
