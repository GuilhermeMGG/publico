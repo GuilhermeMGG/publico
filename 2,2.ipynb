{
 "cells": [
  {
   "cell_type": "code",
   "execution_count": 1,
   "metadata": {},
   "outputs": [
    {
     "name": "stdout",
     "output_type": "stream",
     "text": [
      "Conjunto após adicionar elementos: {10, 20, 30}\n",
      "20 está no conjunto.\n",
      "Conjunto após remover o elemento 20: {10, 30}\n"
     ]
    }
   ],
   "source": [
    "# Criando um conjunto vazio\n",
    "meu_conjunto = set()\n",
    "\n",
    "# Adicionando elementos ao conjunto\n",
    "meu_conjunto.add(10)\n",
    "meu_conjunto.add(20)\n",
    "meu_conjunto.add(30)\n",
    "\n",
    "# Imprimindo o conjunto\n",
    "print('Conjunto após adicionar elementos:', meu_conjunto)\n",
    "\n",
    "# Verificando se um elemento está no conjunto\n",
    "elemento = 20\n",
    "\n",
    "if elemento in meu_conjunto:\n",
    "    print(f'{elemento} está no conjunto.')\n",
    "else:\n",
    "    print(f'{elemento} não está no conjunto.')\n",
    "\n",
    "# Removendo um elemento do conjunto\n",
    "meu_conjunto.remove(20)\n",
    "\n",
    "# Imprimindo o conjunto atualizado\n",
    "print('Conjunto após remover o elemento 20:', meu_conjunto)"
   ]
  },
  {
   "cell_type": "code",
   "execution_count": 2,
   "metadata": {},
   "outputs": [
    {
     "name": "stdout",
     "output_type": "stream",
     "text": [
      "True\n",
      "{'nome': 'Maria', 'idade': 25}\n"
     ]
    }
   ],
   "source": [
    "# Exemplo 1 - Criação de um dicionário vazio, seguido de atribuição de chaves e valores\n",
    "dici_1 = {}\n",
    "dici_1['nome'] = 'Maria'\n",
    "dici_1['idade'] = 25\n",
    "\n",
    "# Exemplo 2 - Criação de um dicionário com pares chave: valor\n",
    "dici_2 = {'nome': 'Maria', 'idade': 25}\n",
    "\n",
    "# Exemplo 3 - Criação de um dicionário com uma lista de tuplas representando pares chave: valor\n",
    "dici_3 = dict([('nome', 'Maria'), ('idade', 25)])\n",
    "\n",
    "# Exemplo 4 - Criação de um dicionário usando a função built-in zip() e duas listas, uma para as chaves e outra para os valores\n",
    "dici_4 = dict(zip(['nome', 'idade'], ['Maria', 25]))\n",
    "\n",
    "# Teste se todas as construções resultam em objetos iguais\n",
    "print(dici_1 == dici_2 == dici_3 == dici_4)  # Deve imprimir True\n",
    "print(dici_1)"
   ]
  },
  {
   "cell_type": "code",
   "execution_count": 3,
   "metadata": {},
   "outputs": [
    {
     "name": "stdout",
     "output_type": "stream",
     "text": [
      "Array original:\n",
      "[1 2 3 4 5]\n",
      "\n",
      "Array ao quadrado:\n",
      "[ 1  4  9 16 25]\n",
      "\n",
      "Soma dos elementos:\n",
      "15\n",
      "\n",
      "Elemento no índice 2: 3\n"
     ]
    }
   ],
   "source": [
    "import numpy as np\n",
    "\n",
    "# Crie um array NumPy de números inteiros\n",
    "my_array = np.array([1, 2, 3, 4, 5])\n",
    "\n",
    "# Imprima o array\n",
    "print('Array original:')\n",
    "print(my_array)\n",
    "\n",
    "# Realize operações matemáticas com o array\n",
    "squared_array = my_array ** 2  # Eleva cada elemento ao quadrado\n",
    "sum_of_elements = np.sum(my_array)  # Calcula a soma de todos os elementos\n",
    "\n",
    "# Imprima os resultados\n",
    "print('\\nArray ao quadrado:')\n",
    "print(squared_array)\n",
    "print('\\nSoma dos elementos:')\n",
    "print(sum_of_elements)\n",
    "\n",
    "# Acesse elementos do array\n",
    "element_at_index_2 = my_array[2]  # Acessa o elemento no índice 2\n",
    "print('\\nElemento no índice 2:', element_at_index_2)"
   ]
  },
  {
   "cell_type": "code",
   "execution_count": 9,
   "metadata": {},
   "outputs": [
    {
     "name": "stdout",
     "output_type": "stream",
     "text": [
      "Regiões dos participantes: {'Índia', 'EUA', 'Brasil'}\n",
      "Afiliações dos participantes:\n",
      "Universidade A: Alice\n",
      "Instituto B: Bob\n",
      "Instituto C: Charlie\n",
      "Área de interesse mais popular: Astronomia\n"
     ]
    }
   ],
   "source": [
    "# Dados dos participantes\n",
    "participantes = [\n",
    "    {\n",
    "        'nome': 'Alice',\n",
    "        'localizacao': 'EUA',\n",
    "        'afiliacao': 'Universidade A',\n",
    "        'interesses': ['Física', 'Astronomia']\n",
    "    },\n",
    "    {\n",
    "        'nome': 'Bob',\n",
    "        'localizacao': 'Brasil',\n",
    "        'afiliacao': 'Instituto B',\n",
    "        'interesses': ['Biologia', 'Astronomia']\n",
    "    },\n",
    "    {\n",
    "        'nome': 'Charlie',\n",
    "        'localizacao': 'Índia',\n",
    "        'afiliacao': 'Instituto C',\n",
    "        'interesses': ['Química', 'Engenharia']\n",
    "    }\n",
    "    # Adicione mais participantes conforme necessário\n",
    "]\n",
    "\n",
    "# Usando sets para identificar diferentes regiões dos participantes\n",
    "regioes = set(participante['localizacao'] for participante in participantes)\n",
    "\n",
    "# Usando um dicionário para categorizar afiliações\n",
    "afiliacoes = {}\n",
    "for participante in participantes:\n",
    "\n",
    "    afiliacao = participante['afiliacao']\n",
    "\n",
    "    if afiliacao not in afiliacoes:\n",
    "        afiliacoes[afiliacao] = []\n",
    "    afiliacoes[afiliacao].append(participante['nome'])\n",
    "\n",
    "# Usando NumPy para analisar áreas de interesse\n",
    "areas_de_interesse = np.array([interesse for participante in participantes for interesse in participante['interesses']])\n",
    "interesses_unicos, contagem = np.unique(areas_de_interesse, return_counts=True)\n",
    "area_mais_popular = interesses_unicos[np.argmax(contagem)]\n",
    "\n",
    "# Resultados\n",
    "print('Regiões dos participantes:', regioes)\n",
    "print('Afiliações dos participantes:')\n",
    "\n",
    "for afiliacao, nomes in afiliacoes.items():\n",
    "    print(f'{afiliacao}: {\", \".join(nomes)}')\n",
    "    \n",
    "print('Área de interesse mais popular:', area_mais_popular)"
   ]
  }
 ],
 "metadata": {
  "kernelspec": {
   "display_name": "Python 3",
   "language": "python",
   "name": "python3"
  },
  "language_info": {
   "codemirror_mode": {
    "name": "ipython",
    "version": 3
   },
   "file_extension": ".py",
   "mimetype": "text/x-python",
   "name": "python",
   "nbconvert_exporter": "python",
   "pygments_lexer": "ipython3",
   "version": "3.11.9"
  }
 },
 "nbformat": 4,
 "nbformat_minor": 2
}
